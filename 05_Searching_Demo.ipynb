{
 "cells": [
  {
   "cell_type": "markdown",
   "metadata": {
    "tags": []
   },
   "source": [
    "# GDMA Project\n",
    "Author: Julian Schelb (1069967)"
   ]
  },
  {
   "cell_type": "code",
   "execution_count": 1,
   "metadata": {},
   "outputs": [],
   "source": [
    "from neo4j import GraphDatabase\n",
    "import matplotlib.pyplot as plt\n",
    "import numpy as np\n",
    "import pandas as pd"
   ]
  },
  {
   "cell_type": "markdown",
   "metadata": {},
   "source": [
    "### Connection to the database instance"
   ]
  },
  {
   "cell_type": "code",
   "execution_count": 2,
   "metadata": {},
   "outputs": [],
   "source": [
    "driver = GraphDatabase.driver(\"bolt://localhost:7687\", auth=(\"neo4j\", \"subatomic-shrank-Respond\"))\n",
    "database_name = \"cddb\"\n",
    "session = driver.session(database = database_name)"
   ]
  },
  {
   "cell_type": "markdown",
   "metadata": {
    "tags": []
   },
   "source": [
    "### Task 4: Searching and Ranking\n",
    "\n",
    "Implement a simple search engine that enables search by artist, album and\n",
    "song name/title. The results must be ranked based on importance. It is up to\n",
    "you to come up with how the importance of each result is computed and you\n",
    "must justify your decision (it goes without saying that you need to come up\n",
    "with a meaningful definition). However, the importance should ideally take into\n",
    "account user preferences/likes. As such, this task is split in two parts:\n",
    "\n",
    "**1. Write a Cypher query that adds a relationship :LIKES between a node with**\n",
    "\n",
    "label :User and an artist, album, or song. Every user should be identified\n",
    "just by a numerical userID (no more information is necessary). If a user\n",
    "already exists in the system, no additional node should be added. After\n",
    "coming up with the necessary Cypher query, add a significant number of\n",
    "users and likes.\n",
    "\n",
    "**2. Implement a simple Python function that has the following arguments:**\n",
    "\n",
    "- the userID of the user submitting the search (the user ID may not\n",
    "exist in the database),\n",
    "- a string that contains one or more keywords for the search, and\n",
    "- an optional argument that indicates whether the search is on all or\n",
    "a specific field, i.e., artist, album, song.\n",
    "The search must return exactly 10 results.\n",
    "\n",
    "Python must only be used to call the database. You should not write any\n",
    "code in Python that implements functionality necessary for the task. However,\n",
    "submitting multiple queries in the same function call is allowed. Also, for this\n",
    "task of the project, you are not only allowed but also encouraged to use functions\n",
    "from the GDS library of Neo4j. Hence, before making any decisions, have a\n",
    "careful look at the available functions. Again, you have to justify the use of any\n",
    "function that you employ"
   ]
  },
  {
   "cell_type": "markdown",
   "metadata": {},
   "source": [
    "#### Adding Example Users"
   ]
  },
  {
   "cell_type": "markdown",
   "metadata": {},
   "source": [
    "Function for creating a user node:"
   ]
  },
  {
   "cell_type": "code",
   "execution_count": 3,
   "metadata": {},
   "outputs": [],
   "source": [
    "def createUser(driver, database_name: str = \"cddb\", user_id: int = None):\n",
    "    \n",
    "    if type(user_id) is not int:\n",
    "        raise TypeError('User ID must be a Number')\n",
    "    if user_id < 0:\n",
    "        raise ValueError('User ID must be a positive Number')\n",
    "        \n",
    "        \n",
    "    query = \"\"\"\n",
    "    MERGE (u:User {id:  $user_id})\n",
    "    RETURN u.id as user_id\n",
    "    \"\"\"\n",
    "    \n",
    "    with driver.session(database = database_name) as session:\n",
    "        session.run(query, user_id = user_id)\n",
    "    "
   ]
  },
  {
   "cell_type": "code",
   "execution_count": 4,
   "metadata": {},
   "outputs": [],
   "source": [
    "createUser(driver, user_id = 99)"
   ]
  },
  {
   "cell_type": "markdown",
   "metadata": {},
   "source": [
    "Function for deleting a user node and all relations:"
   ]
  },
  {
   "cell_type": "code",
   "execution_count": 5,
   "metadata": {},
   "outputs": [],
   "source": [
    "def deleteUser(driver, database_name: str = \"cddb\", user_id: int = None):\n",
    "    \n",
    "    if type(user_id) is not int:\n",
    "        raise TypeError('User ID must be a Number')\n",
    "    if user_id < 0:\n",
    "        raise ValueError('User ID must be a positive Number')\n",
    "        \n",
    "        \n",
    "    query = \"\"\"\n",
    "    MATCH (u:User)\n",
    "    WHERE u.id = $user_id\n",
    "    DETACH DELETE u\n",
    "    \"\"\"\n",
    "    \n",
    "    with driver.session(database = database_name) as session:\n",
    "        session.run(query, user_id = user_id)"
   ]
  },
  {
   "cell_type": "code",
   "execution_count": 6,
   "metadata": {},
   "outputs": [],
   "source": [
    "deleteUser(driver, user_id = 99)"
   ]
  },
  {
   "cell_type": "markdown",
   "metadata": {},
   "source": [
    "Function for letting user like a song, album or artist:"
   ]
  },
  {
   "cell_type": "code",
   "execution_count": 7,
   "metadata": {
    "tags": []
   },
   "outputs": [],
   "source": [
    "def addLike(driver, database_name: str = \"cddb\", user_id: int = None, node_id: int = None, node_label: str = None):\n",
    "    \n",
    "    # Validate user_id\n",
    "    if type(user_id) is not int:\n",
    "        raise TypeError('User ID must be a Number')\n",
    "    if user_id < 0:\n",
    "        raise ValueError('User ID must be a positive Number')\n",
    "    \n",
    "    # Validate node_id\n",
    "    if type(node_id) is not int:\n",
    "        raise TypeError('Node ID must be a Number')\n",
    "    if node_id < 0:\n",
    "        raise ValueError('Node ID must be a positive Number')\n",
    "        \n",
    "    # Validate node_label    \n",
    "    if node_label not in [\"Song\", \"Album\", \"Artist\"]:\n",
    "        raise ValueError('Node type must be song, album or artist')\n",
    "    \n",
    "    createUser(driver, user_id = user_id)\n",
    "    \n",
    "    query = f\"\"\"\n",
    "    MATCH (u:User)\n",
    "    WHERE u.id = {user_id}\n",
    "    MATCH (n: {node_label})\n",
    "    WHERE n.id = {node_id}\n",
    "    MERGE (u)-[r:LIKES]->(n)\n",
    "    \"\"\"\n",
    "    \n",
    "    with driver.session(database = database_name) as session:\n",
    "        session.run(query)\n",
    "    "
   ]
  },
  {
   "cell_type": "code",
   "execution_count": 8,
   "metadata": {},
   "outputs": [],
   "source": [
    "addLike(driver, user_id = 99, node_id = 10, node_label = \"Song\")"
   ]
  },
  {
   "cell_type": "markdown",
   "metadata": {},
   "source": [
    "Function for creating an example user who listens to a given genre:"
   ]
  },
  {
   "cell_type": "code",
   "execution_count": 19,
   "metadata": {},
   "outputs": [],
   "source": [
    "def createExampleUser(driver, user_id: int = 1, genre: str = \"rock\", limit: int = 50):\n",
    "    \n",
    "    ####### CREATE USER #######\n",
    "    \n",
    "    deleteUser(driver, user_id = user_id)\n",
    "    createUser(driver, user_id = user_id)\n",
    "    \n",
    "    ####### LIKE SONGS #######\n",
    "    \n",
    "    query = \"\"\"\n",
    "    MATCH (g:Genre)<-[r:BELONGS_TO]-(c:CD)\n",
    "    MATCH (c)-[r2:CONTAINS]->(s:Song)\n",
    "    WHERE g.genre = $genre\n",
    "    WITH DISTINCT s \n",
    "    LIMIT $limit\n",
    "    RETURN s.id as id\n",
    "    \"\"\"\n",
    "    \n",
    "    with driver.session(database = database_name) as session:\n",
    "        results = session.run(query, user_id = user_id, genre = genre, limit = limit)\n",
    "        for row in results:\n",
    "            addLike(driver, user_id = user_id, node_id = row[\"id\"], node_label = \"Song\")\n",
    "            \n",
    "    ####### LIKE ALBUMS #######\n",
    "    \n",
    "    query = \"\"\"\n",
    "    MATCH (g:Genre)<-[r:BELONGS_TO]-(c:CD)\n",
    "    MATCH (c)-[r2:CONTAINS]->(s:Album)\n",
    "    WHERE g.genre = $genre\n",
    "    WITH DISTINCT s \n",
    "    LIMIT $limit\n",
    "    RETURN s.id as id\n",
    "    \"\"\"\n",
    "    \n",
    "    with driver.session(database = database_name) as session:\n",
    "        results = session.run(query, user_id = user_id, genre = genre, limit = limit)\n",
    "        for row in results:\n",
    "            addLike(driver, user_id = user_id, node_id = row[\"id\"], node_label = \"Album\")\n",
    "            \n",
    "    ####### LIKE ARTISTS #######\n",
    "    \n",
    "    query = \"\"\"\n",
    "    MATCH (g:Genre)<-[r:BELONGS_TO]-(c:CD)\n",
    "    MATCH (c)-[r2:CONTAINS]->(s:Artist)\n",
    "    WHERE g.genre = $genre\n",
    "    WITH DISTINCT s \n",
    "    LIMIT $limit\n",
    "    RETURN s.id as id\n",
    "    \"\"\"\n",
    "    \n",
    "    with driver.session(database = database_name) as session:\n",
    "        results = session.run(query, user_id = user_id, genre = genre, limit = limit)\n",
    "        for row in results:\n",
    "            addLike(driver, user_id = user_id, node_id = row[\"id\"], node_label = \"Artist\")\n",
    "    "
   ]
  },
  {
   "cell_type": "code",
   "execution_count": 20,
   "metadata": {},
   "outputs": [],
   "source": [
    "createExampleUser(driver, user_id = 99, genre = \"rock\", limit = 50)"
   ]
  },
  {
   "cell_type": "markdown",
   "metadata": {},
   "source": [
    "**Adding some Likes to model User Preference:**"
   ]
  },
  {
   "cell_type": "code",
   "execution_count": 24,
   "metadata": {},
   "outputs": [],
   "source": [
    "# User 1 likes \"Rock\" music\n",
    "createExampleUser(driver, user_id = 1, genre = \"rock\", limit = 50)\n",
    "# User 2 likes \"classic\" music\n",
    "createExampleUser(driver, user_id = 2, genre = \"classic\", limit = 50)\n",
    "# User 3 likes \"pop\" music\n",
    "createExampleUser(driver, user_id = 3, genre = \"pop\", limit = 50)\n",
    "# User 4 likes \"hip-hop\" music\n",
    "createExampleUser(driver, user_id = 4, genre = \"hip-hop\", limit = 50)\n",
    "# User 5 likes \"hip-hop\" music\n",
    "createExampleUser(driver, user_id = 5, genre = \"hard rock\", limit = 50)"
   ]
  },
  {
   "cell_type": "markdown",
   "metadata": {},
   "source": [
    "***"
   ]
  },
  {
   "cell_type": "markdown",
   "metadata": {},
   "source": [
    "**Implementation Explained:**\n",
    "\n",
    "This search incorporates nodes corresponding to the input string on the one hand, and the previously liked albums, artists and songs on the other hand. Two separate scores are calculated in a similar manner. Separately calculated Centrality Scores form the basis. Separate graph projections are created for nodes that match the search input and for nodes that have been previously liked. Subsequently, a centrality score is calculated for each node in both. The basic idea is that the most relevant CDs will have a high centrality score. The \"Content Match\" score and the \"User Preference\" score are then combined in a weighted manner. The ten CDs with the highest combined score are presented to the user. \n",
    "\n",
    "![](Figures/search.png)"
   ]
  },
  {
   "cell_type": "markdown",
   "metadata": {},
   "source": [
    "***"
   ]
  },
  {
   "cell_type": "markdown",
   "metadata": {
    "tags": []
   },
   "source": [
    "#### Demonstrating Search"
   ]
  },
  {
   "cell_type": "code",
   "execution_count": 1,
   "metadata": {},
   "outputs": [],
   "source": [
    "from search import Search"
   ]
  },
  {
   "cell_type": "markdown",
   "metadata": {},
   "source": [
    "**Create Instance of Search Engine:**"
   ]
  },
  {
   "cell_type": "code",
   "execution_count": 3,
   "metadata": {},
   "outputs": [],
   "source": [
    "searchEngine = Search(url = \"bolt://localhost:7687\", user= \"neo4j\", \n",
    "                      password = \"subatomic-shrank-Respond\", database_name = \"cddb\")"
   ]
  },
  {
   "cell_type": "markdown",
   "metadata": {},
   "source": [
    "**Search for Jimi Hendrix:**"
   ]
  },
  {
   "cell_type": "code",
   "execution_count": 4,
   "metadata": {},
   "outputs": [
    {
     "data": {
      "text/html": [
       "<div>\n",
       "<style scoped>\n",
       "    .dataframe tbody tr th:only-of-type {\n",
       "        vertical-align: middle;\n",
       "    }\n",
       "\n",
       "    .dataframe tbody tr th {\n",
       "        vertical-align: top;\n",
       "    }\n",
       "\n",
       "    .dataframe thead th {\n",
       "        text-align: right;\n",
       "    }\n",
       "</style>\n",
       "<table border=\"1\" class=\"dataframe\">\n",
       "  <thead>\n",
       "    <tr style=\"text-align: right;\">\n",
       "      <th></th>\n",
       "      <th>nodeId</th>\n",
       "      <th>count</th>\n",
       "      <th>score_cont</th>\n",
       "      <th>score_pref</th>\n",
       "      <th>artists</th>\n",
       "      <th>albums</th>\n",
       "      <th>songs</th>\n",
       "    </tr>\n",
       "  </thead>\n",
       "  <tbody>\n",
       "    <tr>\n",
       "      <th>0</th>\n",
       "      <td>7923</td>\n",
       "      <td>1</td>\n",
       "      <td>0.265149</td>\n",
       "      <td>0.000000</td>\n",
       "      <td>[signature licks]</td>\n",
       "      <td>[jimi hendrix]</td>\n",
       "      <td>[fire (verse);, foxey lady (solo, slow);, fire...</td>\n",
       "    </tr>\n",
       "    <tr>\n",
       "      <th>1</th>\n",
       "      <td>2023</td>\n",
       "      <td>2</td>\n",
       "      <td>0.133564</td>\n",
       "      <td>0.034758</td>\n",
       "      <td>[jimi hendrix]</td>\n",
       "      <td>[experience hendrix - the best of jimi hendrix]</td>\n",
       "      <td>[bold as love, night bird flying, if 6 was 9, ...</td>\n",
       "    </tr>\n",
       "    <tr>\n",
       "      <th>2</th>\n",
       "      <td>35734</td>\n",
       "      <td>2</td>\n",
       "      <td>0.133564</td>\n",
       "      <td>0.034758</td>\n",
       "      <td>[jimi hendrix]</td>\n",
       "      <td>[are you experienced]</td>\n",
       "      <td>[i don't live today, 51st anniversary, stone f...</td>\n",
       "    </tr>\n",
       "    <tr>\n",
       "      <th>3</th>\n",
       "      <td>677</td>\n",
       "      <td>2</td>\n",
       "      <td>0.133564</td>\n",
       "      <td>0.034758</td>\n",
       "      <td>[jimi hendrix]</td>\n",
       "      <td>[are you experienced]</td>\n",
       "      <td>[third stone from the sun, remember, fire, can...</td>\n",
       "    </tr>\n",
       "    <tr>\n",
       "      <th>4</th>\n",
       "      <td>46232</td>\n",
       "      <td>2</td>\n",
       "      <td>0.133564</td>\n",
       "      <td>0.034758</td>\n",
       "      <td>[jimi hendrix]</td>\n",
       "      <td>[experience hendrix the best of jimi hendrix]</td>\n",
       "      <td>[foxey lady, dolly dagger, bold as love, if 6 ...</td>\n",
       "    </tr>\n",
       "    <tr>\n",
       "      <th>5</th>\n",
       "      <td>136907</td>\n",
       "      <td>2</td>\n",
       "      <td>0.133564</td>\n",
       "      <td>0.034758</td>\n",
       "      <td>[jimi hendrix]</td>\n",
       "      <td>[are you experienced]</td>\n",
       "      <td>[love or confusion, remember, highway chile, m...</td>\n",
       "    </tr>\n",
       "    <tr>\n",
       "      <th>6</th>\n",
       "      <td>162186</td>\n",
       "      <td>2</td>\n",
       "      <td>0.133564</td>\n",
       "      <td>0.034758</td>\n",
       "      <td>[jimi hendrix]</td>\n",
       "      <td>[experience hendrix: the best of jimi hendrix]</td>\n",
       "      <td>[if six was nine, foxey lady, bold as love, ni...</td>\n",
       "    </tr>\n",
       "    <tr>\n",
       "      <th>7</th>\n",
       "      <td>20222</td>\n",
       "      <td>2</td>\n",
       "      <td>0.133564</td>\n",
       "      <td>0.017759</td>\n",
       "      <td>[jimi hendrix]</td>\n",
       "      <td>[best of jimi hendrix]</td>\n",
       "      <td>[blues, blues, free spirit, star spangled bann...</td>\n",
       "    </tr>\n",
       "    <tr>\n",
       "      <th>8</th>\n",
       "      <td>33321</td>\n",
       "      <td>2</td>\n",
       "      <td>0.133564</td>\n",
       "      <td>0.017759</td>\n",
       "      <td>[jimi hendrix]</td>\n",
       "      <td>[astro man(alchemy); - studio outtakes 1966-68]</td>\n",
       "      <td>[purple haze 1 (4);, 51st anniversary (5);, la...</td>\n",
       "    </tr>\n",
       "    <tr>\n",
       "      <th>9</th>\n",
       "      <td>30138</td>\n",
       "      <td>2</td>\n",
       "      <td>0.133564</td>\n",
       "      <td>0.017759</td>\n",
       "      <td>[jimi hendrix]</td>\n",
       "      <td>[astro man box set]</td>\n",
       "      <td>[can you see me (pre unre);, purple haze (pre ...</td>\n",
       "    </tr>\n",
       "  </tbody>\n",
       "</table>\n",
       "</div>"
      ],
      "text/plain": [
       "   nodeId  count  score_cont  score_pref            artists  \\\n",
       "0    7923      1    0.265149    0.000000  [signature licks]   \n",
       "1    2023      2    0.133564    0.034758     [jimi hendrix]   \n",
       "2   35734      2    0.133564    0.034758     [jimi hendrix]   \n",
       "3     677      2    0.133564    0.034758     [jimi hendrix]   \n",
       "4   46232      2    0.133564    0.034758     [jimi hendrix]   \n",
       "5  136907      2    0.133564    0.034758     [jimi hendrix]   \n",
       "6  162186      2    0.133564    0.034758     [jimi hendrix]   \n",
       "7   20222      2    0.133564    0.017759     [jimi hendrix]   \n",
       "8   33321      2    0.133564    0.017759     [jimi hendrix]   \n",
       "9   30138      2    0.133564    0.017759     [jimi hendrix]   \n",
       "\n",
       "                                            albums  \\\n",
       "0                                   [jimi hendrix]   \n",
       "1  [experience hendrix - the best of jimi hendrix]   \n",
       "2                            [are you experienced]   \n",
       "3                            [are you experienced]   \n",
       "4    [experience hendrix the best of jimi hendrix]   \n",
       "5                            [are you experienced]   \n",
       "6   [experience hendrix: the best of jimi hendrix]   \n",
       "7                           [best of jimi hendrix]   \n",
       "8  [astro man(alchemy); - studio outtakes 1966-68]   \n",
       "9                              [astro man box set]   \n",
       "\n",
       "                                               songs  \n",
       "0  [fire (verse);, foxey lady (solo, slow);, fire...  \n",
       "1  [bold as love, night bird flying, if 6 was 9, ...  \n",
       "2  [i don't live today, 51st anniversary, stone f...  \n",
       "3  [third stone from the sun, remember, fire, can...  \n",
       "4  [foxey lady, dolly dagger, bold as love, if 6 ...  \n",
       "5  [love or confusion, remember, highway chile, m...  \n",
       "6  [if six was nine, foxey lady, bold as love, ni...  \n",
       "7  [blues, blues, free spirit, star spangled bann...  \n",
       "8  [purple haze 1 (4);, 51st anniversary (5);, la...  \n",
       "9  [can you see me (pre unre);, purple haze (pre ...  "
      ]
     },
     "execution_count": 4,
     "metadata": {},
     "output_type": "execute_result"
    }
   ],
   "source": [
    "user_id = 1\n",
    "search_input = \"Jimi Hendrix purple haze are you experienced\"\n",
    "search_mask = \"all\"\n",
    "\n",
    "results = searchEngine.searchInGraph(user_id = 1, search_input = search_input, search_mask= search_mask)\n",
    "results.head(30)"
   ]
  },
  {
   "cell_type": "markdown",
   "metadata": {},
   "source": [
    "**Search for Beethoven:**"
   ]
  },
  {
   "cell_type": "code",
   "execution_count": 5,
   "metadata": {},
   "outputs": [
    {
     "data": {
      "text/html": [
       "<div>\n",
       "<style scoped>\n",
       "    .dataframe tbody tr th:only-of-type {\n",
       "        vertical-align: middle;\n",
       "    }\n",
       "\n",
       "    .dataframe tbody tr th {\n",
       "        vertical-align: top;\n",
       "    }\n",
       "\n",
       "    .dataframe thead th {\n",
       "        text-align: right;\n",
       "    }\n",
       "</style>\n",
       "<table border=\"1\" class=\"dataframe\">\n",
       "  <thead>\n",
       "    <tr style=\"text-align: right;\">\n",
       "      <th></th>\n",
       "      <th>nodeId</th>\n",
       "      <th>count</th>\n",
       "      <th>score_cont</th>\n",
       "      <th>score_pref</th>\n",
       "      <th>artists</th>\n",
       "      <th>albums</th>\n",
       "      <th>songs</th>\n",
       "    </tr>\n",
       "  </thead>\n",
       "  <tbody>\n",
       "    <tr>\n",
       "      <th>0</th>\n",
       "      <td>140152</td>\n",
       "      <td>1</td>\n",
       "      <td>0.144670</td>\n",
       "      <td>0.000000</td>\n",
       "      <td>[pollini maurizio]</td>\n",
       "      <td>[kaiser 5.2]</td>\n",
       "      <td>[erläuterungen von joachim kaiser mit musikbei...</td>\n",
       "    </tr>\n",
       "    <tr>\n",
       "      <th>1</th>\n",
       "      <td>33062</td>\n",
       "      <td>1</td>\n",
       "      <td>0.000000</td>\n",
       "      <td>0.255736</td>\n",
       "      <td>[ben harper]</td>\n",
       "      <td>[fight for your mind]</td>\n",
       "      <td>[one road to freedom, give a man a home, oppre...</td>\n",
       "    </tr>\n",
       "    <tr>\n",
       "      <th>2</th>\n",
       "      <td>167085</td>\n",
       "      <td>1</td>\n",
       "      <td>0.000000</td>\n",
       "      <td>0.238738</td>\n",
       "      <td>[jannedaarc]</td>\n",
       "      <td>[arcadia]</td>\n",
       "      <td>[romancã, heavy damage, acid breath, dolls, wi...</td>\n",
       "    </tr>\n",
       "    <tr>\n",
       "      <th>3</th>\n",
       "      <td>28698</td>\n",
       "      <td>1</td>\n",
       "      <td>0.000000</td>\n",
       "      <td>0.221739</td>\n",
       "      <td>[ben harper]</td>\n",
       "      <td>[fight for your mind]</td>\n",
       "      <td>[oppression, excuse me mr, give a man a home, ...</td>\n",
       "    </tr>\n",
       "    <tr>\n",
       "      <th>4</th>\n",
       "      <td>141988</td>\n",
       "      <td>1</td>\n",
       "      <td>0.108912</td>\n",
       "      <td>0.000000</td>\n",
       "      <td>[philip jones bläserensemble]</td>\n",
       "      <td>[trumpet voluntary]</td>\n",
       "      <td>[sonata pian' e forte (giovanni gabrieli);, ea...</td>\n",
       "    </tr>\n",
       "    <tr>\n",
       "      <th>5</th>\n",
       "      <td>166362</td>\n",
       "      <td>1</td>\n",
       "      <td>0.000000</td>\n",
       "      <td>0.187743</td>\n",
       "      <td>[the coral]</td>\n",
       "      <td>[the invisible invasion]</td>\n",
       "      <td>[cripples crown, gina jones, leeslunchboxbyblu...</td>\n",
       "    </tr>\n",
       "    <tr>\n",
       "      <th>6</th>\n",
       "      <td>13220</td>\n",
       "      <td>1</td>\n",
       "      <td>0.000000</td>\n",
       "      <td>0.170744</td>\n",
       "      <td>[groundhogs]</td>\n",
       "      <td>[who will save the world]</td>\n",
       "      <td>[music is the food of thought, wages of peace,...</td>\n",
       "    </tr>\n",
       "    <tr>\n",
       "      <th>7</th>\n",
       "      <td>11783</td>\n",
       "      <td>1</td>\n",
       "      <td>0.000000</td>\n",
       "      <td>0.170744</td>\n",
       "      <td>[groundhogs]</td>\n",
       "      <td>[who will save the world]</td>\n",
       "      <td>[wages of peace, the grey maze, body in mind, ...</td>\n",
       "    </tr>\n",
       "    <tr>\n",
       "      <th>8</th>\n",
       "      <td>124071</td>\n",
       "      <td>1</td>\n",
       "      <td>0.073155</td>\n",
       "      <td>0.000000</td>\n",
       "      <td>[ludwig van beethoven]</td>\n",
       "      <td>[beethoven for meditation]</td>\n",
       "      <td>[piano and wind quintet andante cantabile, sep...</td>\n",
       "    </tr>\n",
       "    <tr>\n",
       "      <th>9</th>\n",
       "      <td>114751</td>\n",
       "      <td>1</td>\n",
       "      <td>0.073155</td>\n",
       "      <td>0.000000</td>\n",
       "      <td>[ludwig van beethoven]</td>\n",
       "      <td>[beethoven greatest hits]</td>\n",
       "      <td>[choral fantasy conclusion, moonlight sonata a...</td>\n",
       "    </tr>\n",
       "  </tbody>\n",
       "</table>\n",
       "</div>"
      ],
      "text/plain": [
       "   nodeId  count  score_cont  score_pref                        artists  \\\n",
       "0  140152      1    0.144670    0.000000             [pollini maurizio]   \n",
       "1   33062      1    0.000000    0.255736                   [ben harper]   \n",
       "2  167085      1    0.000000    0.238738                   [jannedaarc]   \n",
       "3   28698      1    0.000000    0.221739                   [ben harper]   \n",
       "4  141988      1    0.108912    0.000000  [philip jones bläserensemble]   \n",
       "5  166362      1    0.000000    0.187743                    [the coral]   \n",
       "6   13220      1    0.000000    0.170744                   [groundhogs]   \n",
       "7   11783      1    0.000000    0.170744                   [groundhogs]   \n",
       "8  124071      1    0.073155    0.000000         [ludwig van beethoven]   \n",
       "9  114751      1    0.073155    0.000000         [ludwig van beethoven]   \n",
       "\n",
       "                       albums  \\\n",
       "0                [kaiser 5.2]   \n",
       "1       [fight for your mind]   \n",
       "2                   [arcadia]   \n",
       "3       [fight for your mind]   \n",
       "4         [trumpet voluntary]   \n",
       "5    [the invisible invasion]   \n",
       "6   [who will save the world]   \n",
       "7   [who will save the world]   \n",
       "8  [beethoven for meditation]   \n",
       "9   [beethoven greatest hits]   \n",
       "\n",
       "                                               songs  \n",
       "0  [erläuterungen von joachim kaiser mit musikbei...  \n",
       "1  [one road to freedom, give a man a home, oppre...  \n",
       "2  [romancã, heavy damage, acid breath, dolls, wi...  \n",
       "3  [oppression, excuse me mr, give a man a home, ...  \n",
       "4  [sonata pian' e forte (giovanni gabrieli);, ea...  \n",
       "5  [cripples crown, gina jones, leeslunchboxbyblu...  \n",
       "6  [music is the food of thought, wages of peace,...  \n",
       "7  [wages of peace, the grey maze, body in mind, ...  \n",
       "8  [piano and wind quintet andante cantabile, sep...  \n",
       "9  [choral fantasy conclusion, moonlight sonata a...  "
      ]
     },
     "execution_count": 5,
     "metadata": {},
     "output_type": "execute_result"
    }
   ],
   "source": [
    "user_id = 2\n",
    "search_input = \"Ludwig van Beethoven Für Elise Symphony\"\n",
    "search_mask = \"all\"\n",
    "\n",
    "results = searchEngine.searchInGraph(user_id = 1, search_input = search_input, search_mask= search_mask)\n",
    "results.head(30)"
   ]
  },
  {
   "cell_type": "code",
   "execution_count": null,
   "metadata": {},
   "outputs": [],
   "source": []
  }
 ],
 "metadata": {
  "kernelspec": {
   "display_name": "Python 3 (ipykernel)",
   "language": "python",
   "name": "python3"
  },
  "language_info": {
   "codemirror_mode": {
    "name": "ipython",
    "version": 3
   },
   "file_extension": ".py",
   "mimetype": "text/x-python",
   "name": "python",
   "nbconvert_exporter": "python",
   "pygments_lexer": "ipython3",
   "version": "3.9.7"
  }
 },
 "nbformat": 4,
 "nbformat_minor": 4
}
