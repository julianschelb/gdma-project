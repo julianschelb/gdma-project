{
 "cells": [
  {
   "cell_type": "markdown",
   "metadata": {
    "tags": []
   },
   "source": [
    "# GDMA Project\n",
    "Author: Julian Schelb (1069967)"
   ]
  },
  {
   "cell_type": "code",
   "execution_count": 1,
   "metadata": {},
   "outputs": [],
   "source": [
    "from neo4j import GraphDatabase\n",
    "import matplotlib.pyplot as plt\n",
    "import numpy as np\n",
    "import pandas as pd"
   ]
  },
  {
   "cell_type": "markdown",
   "metadata": {},
   "source": [
    "### Connection to the database instance"
   ]
  },
  {
   "cell_type": "code",
   "execution_count": 2,
   "metadata": {},
   "outputs": [],
   "source": [
    "driver = GraphDatabase.driver(\"bolt://localhost:7687\", auth=(\"neo4j\", \"subatomic-shrank-Respond\"))\n",
    "database_name = \"cddb\"\n",
    "session = driver.session(database = database_name)"
   ]
  },
  {
   "cell_type": "markdown",
   "metadata": {
    "tags": []
   },
   "source": [
    "### Task 4: Searching and Ranking\n",
    "\n",
    "Implement a simple search engine that enables search by artist, album and\n",
    "song name/title. The results must be ranked based on importance. It is up to\n",
    "you to come up with how the importance of each result is computed and you\n",
    "must justify your decision (it goes without saying that you need to come up\n",
    "with a meaningful definition). However, the importance should ideally take into\n",
    "account user preferences/likes. As such, this task is split in two parts:\n",
    "\n",
    "##### 1. Write a Cypher query that adds a relationship :LIKES between a node with\n",
    "\n",
    "label :User and an artist, album, or song. Every user should be identified\n",
    "just by a numerical userID (no more information is necessary). If a user\n",
    "already exists in the system, no additional node should be added. After\n",
    "coming up with the necessary Cypher query, add a significant number of\n",
    "users and likes.\n",
    "\n",
    "##### 2. Implement a simple Python function that has the following arguments:\n",
    "\n",
    "- the userID of the user submitting the search (the user ID may not\n",
    "exist in the database),\n",
    "- a string that contains one or more keywords for the search, and\n",
    "- an optional argument that indicates whether the search is on all or\n",
    "a specific field, i.e., artist, album, song.\n",
    "The search must return exactly 10 results.\n",
    "\n",
    "Python must only be used to call the database. You should not write any\n",
    "code in Python that implements functionality necessary for the task. However,\n",
    "submitting multiple queries in the same function call is allowed. Also, for this\n",
    "task of the project, you are not only allowed but also encouraged to use functions\n",
    "from the GDS library of Neo4j. Hence, before making any decisions, have a\n",
    "careful look at the available functions. Again, you have to justify the use of any\n",
    "function that you employ"
   ]
  },
  {
   "cell_type": "code",
   "execution_count": 3,
   "metadata": {},
   "outputs": [
    {
     "data": {
      "text/html": [
       "<div>\n",
       "<style scoped>\n",
       "    .dataframe tbody tr th:only-of-type {\n",
       "        vertical-align: middle;\n",
       "    }\n",
       "\n",
       "    .dataframe tbody tr th {\n",
       "        vertical-align: top;\n",
       "    }\n",
       "\n",
       "    .dataframe thead th {\n",
       "        text-align: right;\n",
       "    }\n",
       "</style>\n",
       "<table border=\"1\" class=\"dataframe\">\n",
       "  <thead>\n",
       "    <tr style=\"text-align: right;\">\n",
       "      <th></th>\n",
       "      <th>ar.artist</th>\n",
       "    </tr>\n",
       "  </thead>\n",
       "  <tbody>\n",
       "    <tr>\n",
       "      <th>0</th>\n",
       "      <td>the frequency benders</td>\n",
       "    </tr>\n",
       "    <tr>\n",
       "      <th>1</th>\n",
       "      <td>boyz ii men</td>\n",
       "    </tr>\n",
       "    <tr>\n",
       "      <th>2</th>\n",
       "      <td>adriana calcanhoto</td>\n",
       "    </tr>\n",
       "    <tr>\n",
       "      <th>3</th>\n",
       "      <td>syl johnson</td>\n",
       "    </tr>\n",
       "    <tr>\n",
       "      <th>4</th>\n",
       "      <td>cheo feliciano</td>\n",
       "    </tr>\n",
       "    <tr>\n",
       "      <th>...</th>\n",
       "      <td>...</td>\n",
       "    </tr>\n",
       "    <tr>\n",
       "      <th>5619</th>\n",
       "      <td>garry harrison</td>\n",
       "    </tr>\n",
       "    <tr>\n",
       "      <th>5620</th>\n",
       "      <td>catuaba com amendoim</td>\n",
       "    </tr>\n",
       "    <tr>\n",
       "      <th>5621</th>\n",
       "      <td>jimmy powells</td>\n",
       "    </tr>\n",
       "    <tr>\n",
       "      <th>5622</th>\n",
       "      <td>ofra haza</td>\n",
       "    </tr>\n",
       "    <tr>\n",
       "      <th>5623</th>\n",
       "      <td>michael flatley</td>\n",
       "    </tr>\n",
       "  </tbody>\n",
       "</table>\n",
       "<p>5624 rows × 1 columns</p>\n",
       "</div>"
      ],
      "text/plain": [
       "                  ar.artist\n",
       "0     the frequency benders\n",
       "1               boyz ii men\n",
       "2        adriana calcanhoto\n",
       "3               syl johnson\n",
       "4            cheo feliciano\n",
       "...                     ...\n",
       "5619         garry harrison\n",
       "5620   catuaba com amendoim\n",
       "5621          jimmy powells\n",
       "5622              ofra haza\n",
       "5623        michael flatley\n",
       "\n",
       "[5624 rows x 1 columns]"
      ]
     },
     "execution_count": 3,
     "metadata": {},
     "output_type": "execute_result"
    }
   ],
   "source": [
    "query = \"\"\"\n",
    "MATCH (c:CD)-[r:CONTAINS]->(ar:Artist)\n",
    "WHERE c.ayear = 2000\n",
    "RETURN DISTINCT ar.artist\n",
    "\"\"\"\n",
    "        \n",
    "dtf_data = pd.DataFrame([dict(_) for _ in session.run(query)])\n",
    "dtf_data"
   ]
  }
 ],
 "metadata": {
  "kernelspec": {
   "display_name": "Python 3 (ipykernel)",
   "language": "python",
   "name": "python3"
  },
  "language_info": {
   "codemirror_mode": {
    "name": "ipython",
    "version": 3
   },
   "file_extension": ".py",
   "mimetype": "text/x-python",
   "name": "python",
   "nbconvert_exporter": "python",
   "pygments_lexer": "ipython3",
   "version": "3.9.7"
  }
 },
 "nbformat": 4,
 "nbformat_minor": 4
}
