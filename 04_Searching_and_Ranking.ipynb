{
 "cells": [
  {
   "cell_type": "markdown",
   "metadata": {
    "tags": []
   },
   "source": [
    "# GDMA Project\n",
    "Author: Julian Schelb (1069967)"
   ]
  },
  {
   "cell_type": "code",
   "execution_count": 7,
   "metadata": {},
   "outputs": [],
   "source": [
    "from neo4j import GraphDatabase\n",
    "import matplotlib.pyplot as plt\n",
    "import numpy as np\n",
    "import pandas as pd"
   ]
  },
  {
   "cell_type": "markdown",
   "metadata": {},
   "source": [
    "### Connection to the database instance"
   ]
  },
  {
   "cell_type": "code",
   "execution_count": 8,
   "metadata": {},
   "outputs": [],
   "source": [
    "driver = GraphDatabase.driver(\"bolt://localhost:7687\", auth=(\"neo4j\", \"subatomic-shrank-Respond\"))\n",
    "database_name = \"cddb\"\n",
    "session = driver.session(database = database_name)"
   ]
  },
  {
   "cell_type": "markdown",
   "metadata": {
    "tags": []
   },
   "source": [
    "### Task 4: Searching and Ranking\n",
    "\n",
    "Implement a simple search engine that enables search by artist, album and\n",
    "song name/title. The results must be ranked based on importance. It is up to\n",
    "you to come up with how the importance of each result is computed and you\n",
    "must justify your decision (it goes without saying that you need to come up\n",
    "with a meaningful definition). However, the importance should ideally take into\n",
    "account user preferences/likes. As such, this task is split in two parts:\n",
    "\n",
    "##### 1. Write a Cypher query that adds a relationship :LIKES between a node with\n",
    "\n",
    "label :User and an artist, album, or song. Every user should be identified\n",
    "just by a numerical userID (no more information is necessary). If a user\n",
    "already exists in the system, no additional node should be added. After\n",
    "coming up with the necessary Cypher query, add a significant number of\n",
    "users and likes.\n",
    "\n",
    "##### 2. Implement a simple Python function that has the following arguments:\n",
    "\n",
    "- the userID of the user submitting the search (the user ID may not\n",
    "exist in the database),\n",
    "- a string that contains one or more keywords for the search, and\n",
    "- an optional argument that indicates whether the search is on all or\n",
    "a specific field, i.e., artist, album, song.\n",
    "The search must return exactly 10 results.\n",
    "\n",
    "Python must only be used to call the database. You should not write any\n",
    "code in Python that implements functionality necessary for the task. However,\n",
    "submitting multiple queries in the same function call is allowed. Also, for this\n",
    "task of the project, you are not only allowed but also encouraged to use functions\n",
    "from the GDS library of Neo4j. Hence, before making any decisions, have a\n",
    "careful look at the available functions. Again, you have to justify the use of any\n",
    "function that you employ"
   ]
  },
  {
   "cell_type": "code",
   "execution_count": 9,
   "metadata": {},
   "outputs": [
    {
     "data": {
      "text/html": [
       "<div>\n",
       "<style scoped>\n",
       "    .dataframe tbody tr th:only-of-type {\n",
       "        vertical-align: middle;\n",
       "    }\n",
       "\n",
       "    .dataframe tbody tr th {\n",
       "        vertical-align: top;\n",
       "    }\n",
       "\n",
       "    .dataframe thead th {\n",
       "        text-align: right;\n",
       "    }\n",
       "</style>\n",
       "<table border=\"1\" class=\"dataframe\">\n",
       "  <thead>\n",
       "    <tr style=\"text-align: right;\">\n",
       "      <th></th>\n",
       "      <th>ar.artist</th>\n",
       "    </tr>\n",
       "  </thead>\n",
       "  <tbody>\n",
       "    <tr>\n",
       "      <th>0</th>\n",
       "      <td>the frequency benders</td>\n",
       "    </tr>\n",
       "    <tr>\n",
       "      <th>1</th>\n",
       "      <td>boyz ii men</td>\n",
       "    </tr>\n",
       "    <tr>\n",
       "      <th>2</th>\n",
       "      <td>adriana calcanhoto</td>\n",
       "    </tr>\n",
       "    <tr>\n",
       "      <th>3</th>\n",
       "      <td>syl johnson</td>\n",
       "    </tr>\n",
       "    <tr>\n",
       "      <th>4</th>\n",
       "      <td>cheo feliciano</td>\n",
       "    </tr>\n",
       "    <tr>\n",
       "      <th>...</th>\n",
       "      <td>...</td>\n",
       "    </tr>\n",
       "    <tr>\n",
       "      <th>5619</th>\n",
       "      <td>garry harrison</td>\n",
       "    </tr>\n",
       "    <tr>\n",
       "      <th>5620</th>\n",
       "      <td>catuaba com amendoim</td>\n",
       "    </tr>\n",
       "    <tr>\n",
       "      <th>5621</th>\n",
       "      <td>jimmy powells</td>\n",
       "    </tr>\n",
       "    <tr>\n",
       "      <th>5622</th>\n",
       "      <td>ofra haza</td>\n",
       "    </tr>\n",
       "    <tr>\n",
       "      <th>5623</th>\n",
       "      <td>michael flatley</td>\n",
       "    </tr>\n",
       "  </tbody>\n",
       "</table>\n",
       "<p>5624 rows × 1 columns</p>\n",
       "</div>"
      ],
      "text/plain": [
       "                  ar.artist\n",
       "0     the frequency benders\n",
       "1               boyz ii men\n",
       "2        adriana calcanhoto\n",
       "3               syl johnson\n",
       "4            cheo feliciano\n",
       "...                     ...\n",
       "5619         garry harrison\n",
       "5620   catuaba com amendoim\n",
       "5621          jimmy powells\n",
       "5622              ofra haza\n",
       "5623        michael flatley\n",
       "\n",
       "[5624 rows x 1 columns]"
      ]
     },
     "execution_count": 9,
     "metadata": {},
     "output_type": "execute_result"
    }
   ],
   "source": [
    "query = \"\"\"\n",
    "MATCH (c:CD)-[r:CONTAINS]->(ar:Artist)\n",
    "WHERE c.ayear = 2000\n",
    "RETURN DISTINCT ar.artist\n",
    "\"\"\"\n",
    "        \n",
    "dtf_data = pd.DataFrame([dict(_) for _ in session.run(query)])\n",
    "dtf_data"
   ]
  },
  {
   "cell_type": "markdown",
   "metadata": {},
   "source": [
    "#### Processing"
   ]
  },
  {
   "cell_type": "markdown",
   "metadata": {},
   "source": [
    "**Ideas:** \n",
    "\n",
    "Inplicit Meassures (to avoid cold start problem):\n",
    "- Centrality in subgraph of artists, albums, songs according to search input (Use exact match and partial match) (and maybe liked nodes?)\n",
    "    1) Select Subgraph by filtering artbist, albums and songs by input\n",
    "    2) Calculate centrality (Multiple meassures)\n",
    "    3) Cd with higher centrality is considered better\n",
    "    \n",
    "\n",
    "User Preference:\n",
    "\n",
    "- Use Nod2Vec Embedding to compute Similarity to already liked Nodes:\n",
    "    1) Include similar nodes to already liked ones\n",
    "    2) Average similarity of artists/albums/sing nodes ... compared to previous likes\n",
    "- Use average Distance to liked Nodes. (basically already included)\n",
    "- centrality in the subgraph ob liked nodes (basically already included)\n",
    "\n",
    "Output:\n",
    "\n",
    "cd id, contained songs, contained artists, contained albums, centralities, cumulated scores"
   ]
  },
  {
   "cell_type": "code",
   "execution_count": null,
   "metadata": {},
   "outputs": [],
   "source": [
    "CALL gds.graph.project(\n",
    "  'cdRanking',            \n",
    "  ['CD', 'Album', 'Artist', 'Song'],             \n",
    "  ['CONTAINS', 'APPEARED_ON']               \n",
    ")\n",
    "YIELD\n",
    "  graphName AS graph, nodeProjection, nodeCount AS nodes, relationshipProjection, relationshipCount AS rels"
   ]
  },
  {
   "cell_type": "code",
   "execution_count": null,
   "metadata": {},
   "outputs": [],
   "source": [
    "CALL gds.graph.project.cypher(\n",
    "  'cds',\n",
    "  'MATCH (n) WHERE n:CD OR n:Artist OR n:Song OR n:Album  RETURN id(n) AS id, labels(n) AS labels',\n",
    "  'MATCH (n)-[r:APPEARED_ON]->(m) RETURN id(n) AS source, id(m) AS target, type(r) AS type',\n",
    "  {validateRelationships: false})\n",
    "YIELD\n",
    "  graphName AS graph, nodeQuery, nodeCount AS nodes, relationshipCount AS rels"
   ]
  },
  {
   "cell_type": "code",
   "execution_count": null,
   "metadata": {},
   "outputs": [],
   "source": [
    "CALL gds.eigenvector.stream('cdRanking')\n",
    "YIELD nodeId, score\n",
    "WITH gds.util.asNode(nodeId).id AS nodeId, score\n",
    "RETURN nodeId, score\n",
    "ORDER BY score DESC\n",
    "LIMIT 100"
   ]
  },
  {
   "cell_type": "markdown",
   "metadata": {},
   "source": [
    "Node Embeddings:"
   ]
  },
  {
   "cell_type": "code",
   "execution_count": null,
   "metadata": {},
   "outputs": [],
   "source": [
    "CALL gds.beta.node2vec.stream('cdRanking', {embeddingDimension: 2})\n",
    "YIELD nodeId, embedding\n",
    "RETURN nodeId, embedding"
   ]
  },
  {
   "cell_type": "code",
   "execution_count": null,
   "metadata": {},
   "outputs": [],
   "source": [
    "CALL gds.fastRP.stream('cdRanking',\n",
    "  {\n",
    "    embeddingDimension: 4,\n",
    "    randomSeed: 42\n",
    "  }\n",
    ")\n",
    "YIELD nodeId, embedding"
   ]
  },
  {
   "cell_type": "code",
   "execution_count": null,
   "metadata": {},
   "outputs": [],
   "source": [
    "#https://neo4j.com/docs/graph-data-science/current/graph-project-cypher/\n",
    "\n",
    "MATCH (n)\n",
    "WHERE n.age < 20 AND NOT n.name STARTS WITH \"V\"\n",
    "WITH collect(n) AS olderPersons\n",
    "CALL gds.graph.project.cypher(\n",
    "  'personSubsetViaParameters',\n",
    "  'UNWIND $nodes AS n RETURN id(n) AS id, labels(n) AS labels',\n",
    "  'MATCH (n)-[r:KNOWS]->(m)\n",
    "    WHERE (n IN $nodes) AND (m IN $nodes)\n",
    "    RETURN id(n) AS source, id(m) AS target, type(r) AS type, r.numberOfPages AS numberOfPages',\n",
    "  { parameters: { nodes: olderPersons} }\n",
    ")\n",
    " YIELD\n",
    "  graphName, nodeCount AS nodes, relationshipCount AS rels\n",
    " RETURN graphName, nodes, rels"
   ]
  }
 ],
 "metadata": {
  "kernelspec": {
   "display_name": "Python 3 (ipykernel)",
   "language": "python",
   "name": "python3"
  },
  "language_info": {
   "codemirror_mode": {
    "name": "ipython",
    "version": 3
   },
   "file_extension": ".py",
   "mimetype": "text/x-python",
   "name": "python",
   "nbconvert_exporter": "python",
   "pygments_lexer": "ipython3",
   "version": "3.9.7"
  }
 },
 "nbformat": 4,
 "nbformat_minor": 4
}
