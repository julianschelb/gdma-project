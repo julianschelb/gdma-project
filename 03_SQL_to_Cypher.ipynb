{
 "cells": [
  {
   "cell_type": "markdown",
   "metadata": {
    "tags": []
   },
   "source": [
    "# GDMA Project\n",
    "Author: Julian Schelb (1069967)"
   ]
  },
  {
   "cell_type": "code",
   "execution_count": 1,
   "metadata": {},
   "outputs": [],
   "source": [
    "from neo4j import GraphDatabase\n",
    "import matplotlib.pyplot as plt\n",
    "import numpy as np\n",
    "import pandas as pd"
   ]
  },
  {
   "cell_type": "markdown",
   "metadata": {},
   "source": [
    "### Connection to the database instance"
   ]
  },
  {
   "cell_type": "code",
   "execution_count": 2,
   "metadata": {},
   "outputs": [],
   "source": [
    "driver = GraphDatabase.driver(\"bolt://localhost:7687\", auth=(\"neo4j\", \"subatomic-shrank-Respond\"))\n",
    "database_name = \"cddb\"\n",
    "session = driver.session(database = database_name)"
   ]
  },
  {
   "cell_type": "markdown",
   "metadata": {
    "tags": []
   },
   "source": [
    "### Task 3: SQL to Cypher\n",
    "Translate the following SQL queries to Cypher:"
   ]
  },
  {
   "cell_type": "markdown",
   "metadata": {},
   "source": [
    "**Query 1:**\n"
   ]
  },
  {
   "cell_type": "markdown",
   "metadata": {},
   "source": [
    "List all uniques artists which have published a cd in the year 2000.\n",
    "\n",
    "``` sql\n",
    "SELECT DISTINCT artist\n",
    "FROM artists\n",
    "NATURAL JOIN artist2album\n",
    "NATURAL JOIN cds\n",
    "WHERE ayear = 2000\n",
    "```"
   ]
  },
  {
   "cell_type": "code",
   "execution_count": 3,
   "metadata": {},
   "outputs": [
    {
     "data": {
      "text/html": [
       "<div>\n",
       "<style scoped>\n",
       "    .dataframe tbody tr th:only-of-type {\n",
       "        vertical-align: middle;\n",
       "    }\n",
       "\n",
       "    .dataframe tbody tr th {\n",
       "        vertical-align: top;\n",
       "    }\n",
       "\n",
       "    .dataframe thead th {\n",
       "        text-align: right;\n",
       "    }\n",
       "</style>\n",
       "<table border=\"1\" class=\"dataframe\">\n",
       "  <thead>\n",
       "    <tr style=\"text-align: right;\">\n",
       "      <th></th>\n",
       "      <th>ar.artist</th>\n",
       "    </tr>\n",
       "  </thead>\n",
       "  <tbody>\n",
       "    <tr>\n",
       "      <th>0</th>\n",
       "      <td>the frequency benders</td>\n",
       "    </tr>\n",
       "    <tr>\n",
       "      <th>1</th>\n",
       "      <td>boyz ii men</td>\n",
       "    </tr>\n",
       "    <tr>\n",
       "      <th>2</th>\n",
       "      <td>adriana calcanhoto</td>\n",
       "    </tr>\n",
       "    <tr>\n",
       "      <th>3</th>\n",
       "      <td>syl johnson</td>\n",
       "    </tr>\n",
       "    <tr>\n",
       "      <th>4</th>\n",
       "      <td>cheo feliciano</td>\n",
       "    </tr>\n",
       "    <tr>\n",
       "      <th>...</th>\n",
       "      <td>...</td>\n",
       "    </tr>\n",
       "    <tr>\n",
       "      <th>5619</th>\n",
       "      <td>garry harrison</td>\n",
       "    </tr>\n",
       "    <tr>\n",
       "      <th>5620</th>\n",
       "      <td>catuaba com amendoim</td>\n",
       "    </tr>\n",
       "    <tr>\n",
       "      <th>5621</th>\n",
       "      <td>jimmy powells</td>\n",
       "    </tr>\n",
       "    <tr>\n",
       "      <th>5622</th>\n",
       "      <td>ofra haza</td>\n",
       "    </tr>\n",
       "    <tr>\n",
       "      <th>5623</th>\n",
       "      <td>michael flatley</td>\n",
       "    </tr>\n",
       "  </tbody>\n",
       "</table>\n",
       "<p>5624 rows × 1 columns</p>\n",
       "</div>"
      ],
      "text/plain": [
       "                  ar.artist\n",
       "0     the frequency benders\n",
       "1               boyz ii men\n",
       "2        adriana calcanhoto\n",
       "3               syl johnson\n",
       "4            cheo feliciano\n",
       "...                     ...\n",
       "5619         garry harrison\n",
       "5620   catuaba com amendoim\n",
       "5621          jimmy powells\n",
       "5622              ofra haza\n",
       "5623        michael flatley\n",
       "\n",
       "[5624 rows x 1 columns]"
      ]
     },
     "execution_count": 3,
     "metadata": {},
     "output_type": "execute_result"
    }
   ],
   "source": [
    "query = \"\"\"\n",
    "MATCH (c:CD)-[r:CONTAINS]->(ar:Artist)\n",
    "WHERE c.ayear = 2000\n",
    "RETURN DISTINCT ar.artist\n",
    "\"\"\"\n",
    "        \n",
    "dtf_data = pd.DataFrame([dict(_) for _ in session.run(query)])\n",
    "dtf_data"
   ]
  },
  {
   "cell_type": "markdown",
   "metadata": {},
   "source": [
    "***"
   ]
  },
  {
   "cell_type": "markdown",
   "metadata": {},
   "source": [
    "**Query 2:**\n"
   ]
  },
  {
   "cell_type": "markdown",
   "metadata": {
    "tags": []
   },
   "source": [
    "Calculate the max and average year of a cd was published between 1900 and 2012.\n",
    "\n",
    "``` sql\n",
    "SELECT MAX(ayear), AVG(ayear)\n",
    "FROM cddb.cds\n",
    "WHERE ayear BETWEEN 1900 AND 2012\n",
    "```"
   ]
  },
  {
   "cell_type": "code",
   "execution_count": 4,
   "metadata": {},
   "outputs": [
    {
     "data": {
      "text/html": [
       "<div>\n",
       "<style scoped>\n",
       "    .dataframe tbody tr th:only-of-type {\n",
       "        vertical-align: middle;\n",
       "    }\n",
       "\n",
       "    .dataframe tbody tr th {\n",
       "        vertical-align: top;\n",
       "    }\n",
       "\n",
       "    .dataframe thead th {\n",
       "        text-align: right;\n",
       "    }\n",
       "</style>\n",
       "<table border=\"1\" class=\"dataframe\">\n",
       "  <thead>\n",
       "    <tr style=\"text-align: right;\">\n",
       "      <th></th>\n",
       "      <th>max(c.ayear)</th>\n",
       "      <th>avg(c.ayear)</th>\n",
       "    </tr>\n",
       "  </thead>\n",
       "  <tbody>\n",
       "    <tr>\n",
       "      <th>0</th>\n",
       "      <td>2011</td>\n",
       "      <td>1994.247219</td>\n",
       "    </tr>\n",
       "  </tbody>\n",
       "</table>\n",
       "</div>"
      ],
      "text/plain": [
       "   max(c.ayear)  avg(c.ayear)\n",
       "0          2011   1994.247219"
      ]
     },
     "execution_count": 4,
     "metadata": {},
     "output_type": "execute_result"
    }
   ],
   "source": [
    "query = \"\"\"\n",
    "MATCH (c:CD)\n",
    "WHERE 1900 <= c.ayear <=2012\n",
    "RETURN max(c.ayear), avg(c.ayear)\n",
    "LIMIT 100\n",
    "\"\"\"\n",
    "        \n",
    "dtf_data = pd.DataFrame([dict(_) for _ in session.run(query)])\n",
    "dtf_data"
   ]
  },
  {
   "cell_type": "markdown",
   "metadata": {},
   "source": [
    "***"
   ]
  },
  {
   "cell_type": "markdown",
   "metadata": {},
   "source": [
    "**Query 3:**\n"
   ]
  },
  {
   "cell_type": "markdown",
   "metadata": {
    "tags": []
   },
   "source": [
    "Argument all genres with a count of published CDs per genre where that count is 1000 or more. Order descending by cd count.\n",
    "\n",
    "``` sql\n",
    "SELECT genre , COUNT(cdid) AS cds\n",
    "FROM cds NATURAL JOIN genres g\n",
    "GROUP BY g.genreid , genre\n",
    "HAVING COUNT(cdid) >= 1000\n",
    "ORDER BY cds DESC\n",
    "```"
   ]
  },
  {
   "cell_type": "code",
   "execution_count": 5,
   "metadata": {},
   "outputs": [
    {
     "data": {
      "text/html": [
       "<div>\n",
       "<style scoped>\n",
       "    .dataframe tbody tr th:only-of-type {\n",
       "        vertical-align: middle;\n",
       "    }\n",
       "\n",
       "    .dataframe tbody tr th {\n",
       "        vertical-align: top;\n",
       "    }\n",
       "\n",
       "    .dataframe thead th {\n",
       "        text-align: right;\n",
       "    }\n",
       "</style>\n",
       "<table border=\"1\" class=\"dataframe\">\n",
       "  <thead>\n",
       "    <tr style=\"text-align: right;\">\n",
       "      <th></th>\n",
       "      <th>genre</th>\n",
       "      <th>cds</th>\n",
       "    </tr>\n",
       "  </thead>\n",
       "  <tbody>\n",
       "    <tr>\n",
       "      <th>0</th>\n",
       "      <td>classical</td>\n",
       "      <td>34069</td>\n",
       "    </tr>\n",
       "    <tr>\n",
       "      <th>1</th>\n",
       "      <td>blues</td>\n",
       "      <td>13232</td>\n",
       "    </tr>\n",
       "    <tr>\n",
       "      <th>2</th>\n",
       "      <td>country</td>\n",
       "      <td>11951</td>\n",
       "    </tr>\n",
       "    <tr>\n",
       "      <th>3</th>\n",
       "      <td>jazz</td>\n",
       "      <td>8742</td>\n",
       "    </tr>\n",
       "    <tr>\n",
       "      <th>4</th>\n",
       "      <td>opera</td>\n",
       "      <td>4045</td>\n",
       "    </tr>\n",
       "    <tr>\n",
       "      <th>5</th>\n",
       "      <td>rock</td>\n",
       "      <td>3813</td>\n",
       "    </tr>\n",
       "    <tr>\n",
       "      <th>6</th>\n",
       "      <td>folk</td>\n",
       "      <td>3238</td>\n",
       "    </tr>\n",
       "    <tr>\n",
       "      <th>7</th>\n",
       "      <td>pop</td>\n",
       "      <td>2897</td>\n",
       "    </tr>\n",
       "    <tr>\n",
       "      <th>8</th>\n",
       "      <td>new age</td>\n",
       "      <td>1838</td>\n",
       "    </tr>\n",
       "    <tr>\n",
       "      <th>9</th>\n",
       "      <td>r&amp;b</td>\n",
       "      <td>1270</td>\n",
       "    </tr>\n",
       "  </tbody>\n",
       "</table>\n",
       "</div>"
      ],
      "text/plain": [
       "       genre    cds\n",
       "0  classical  34069\n",
       "1      blues  13232\n",
       "2    country  11951\n",
       "3       jazz   8742\n",
       "4      opera   4045\n",
       "5       rock   3813\n",
       "6       folk   3238\n",
       "7        pop   2897\n",
       "8    new age   1838\n",
       "9        r&b   1270"
      ]
     },
     "execution_count": 5,
     "metadata": {},
     "output_type": "execute_result"
    }
   ],
   "source": [
    "query = \"\"\"\n",
    "MATCH (c:CD)-[r:BELONGS_TO]->(g:Genre) \n",
    "WITH g.genre as genre, count(c) as cds\n",
    "WHERE cds >= 1000\n",
    "RETURN genre, cds \n",
    "ORDER BY cds DESC\n",
    "\"\"\"\n",
    "        \n",
    "dtf_data = pd.DataFrame([dict(_) for _ in session.run(query)])\n",
    "dtf_data"
   ]
  },
  {
   "cell_type": "markdown",
   "metadata": {},
   "source": [
    "***"
   ]
  },
  {
   "cell_type": "markdown",
   "metadata": {},
   "source": [
    "**Query 4:**\n"
   ]
  },
  {
   "cell_type": "markdown",
   "metadata": {
    "tags": []
   },
   "source": [
    "List artists and albums which are associated with a song containing the phrase \"moonlight shadow\".\n",
    "\n",
    "``` sql\n",
    "SELECT artist, album\n",
    "FROM cddb.artists\n",
    "NATURAL JOIN cddb.artist2album\n",
    "NATURAL JOIN cddb.albums\n",
    "NATURAL JOIN cddb.cds\n",
    "NATURAL JOIN cddb.cdtracks\n",
    "NATURAL JOIN cddb.songs\n",
    "WHERE song LIKE '%moonlight shadow%'\n",
    "```"
   ]
  },
  {
   "cell_type": "code",
   "execution_count": 6,
   "metadata": {},
   "outputs": [
    {
     "data": {
      "text/html": [
       "<div>\n",
       "<style scoped>\n",
       "    .dataframe tbody tr th:only-of-type {\n",
       "        vertical-align: middle;\n",
       "    }\n",
       "\n",
       "    .dataframe tbody tr th {\n",
       "        vertical-align: top;\n",
       "    }\n",
       "\n",
       "    .dataframe thead th {\n",
       "        text-align: right;\n",
       "    }\n",
       "</style>\n",
       "<table border=\"1\" class=\"dataframe\">\n",
       "  <thead>\n",
       "    <tr style=\"text-align: right;\">\n",
       "      <th></th>\n",
       "      <th>artist</th>\n",
       "      <th>album</th>\n",
       "    </tr>\n",
       "  </thead>\n",
       "  <tbody>\n",
       "    <tr>\n",
       "      <th>0</th>\n",
       "      <td>groove coverage</td>\n",
       "      <td>best of</td>\n",
       "    </tr>\n",
       "    <tr>\n",
       "      <th>1</th>\n",
       "      <td>groove coverage</td>\n",
       "      <td>best of</td>\n",
       "    </tr>\n",
       "    <tr>\n",
       "      <th>2</th>\n",
       "      <td>groove coverage</td>\n",
       "      <td>best of</td>\n",
       "    </tr>\n",
       "    <tr>\n",
       "      <th>3</th>\n",
       "      <td>aselin debison</td>\n",
       "      <td>moonlight shadow</td>\n",
       "    </tr>\n",
       "    <tr>\n",
       "      <th>4</th>\n",
       "      <td>the shadows</td>\n",
       "      <td>life storyof</td>\n",
       "    </tr>\n",
       "    <tr>\n",
       "      <th>5</th>\n",
       "      <td>koto</td>\n",
       "      <td>koto</td>\n",
       "    </tr>\n",
       "    <tr>\n",
       "      <th>6</th>\n",
       "      <td>koto</td>\n",
       "      <td>plays synthesizer world hits</td>\n",
       "    </tr>\n",
       "    <tr>\n",
       "      <th>7</th>\n",
       "      <td>mike oldfield</td>\n",
       "      <td>crises</td>\n",
       "    </tr>\n",
       "    <tr>\n",
       "      <th>8</th>\n",
       "      <td>dana winner</td>\n",
       "      <td>unforgettable</td>\n",
       "    </tr>\n",
       "    <tr>\n",
       "      <th>9</th>\n",
       "      <td>mike oldfield</td>\n",
       "      <td>art in heaven (live in berlin);</td>\n",
       "    </tr>\n",
       "    <tr>\n",
       "      <th>10</th>\n",
       "      <td>maggie reilly</td>\n",
       "      <td>there and back again</td>\n",
       "    </tr>\n",
       "    <tr>\n",
       "      <th>11</th>\n",
       "      <td>mike oldfield</td>\n",
       "      <td>the best of mike oldfield elements</td>\n",
       "    </tr>\n",
       "    <tr>\n",
       "      <th>12</th>\n",
       "      <td>mike oldfield</td>\n",
       "      <td>the complete mike oldfield</td>\n",
       "    </tr>\n",
       "    <tr>\n",
       "      <th>13</th>\n",
       "      <td>panflute</td>\n",
       "      <td>the magic</td>\n",
       "    </tr>\n",
       "    <tr>\n",
       "      <th>14</th>\n",
       "      <td>royal philharmonic orchestra</td>\n",
       "      <td>rock dreams</td>\n",
       "    </tr>\n",
       "    <tr>\n",
       "      <th>15</th>\n",
       "      <td>a magia dos instrumentos</td>\n",
       "      <td>a beleza das cordas</td>\n",
       "    </tr>\n",
       "    <tr>\n",
       "      <th>16</th>\n",
       "      <td>royal philharmonic orchestra london</td>\n",
       "      <td>rock dreams 2</td>\n",
       "    </tr>\n",
       "    <tr>\n",
       "      <th>17</th>\n",
       "      <td>groove coverage</td>\n",
       "      <td>covergirl</td>\n",
       "    </tr>\n",
       "    <tr>\n",
       "      <th>18</th>\n",
       "      <td>groove coverage</td>\n",
       "      <td>covergirl</td>\n",
       "    </tr>\n",
       "    <tr>\n",
       "      <th>19</th>\n",
       "      <td>groove coverage</td>\n",
       "      <td>covergirl</td>\n",
       "    </tr>\n",
       "    <tr>\n",
       "      <th>20</th>\n",
       "      <td>groove coverage</td>\n",
       "      <td>covergirl</td>\n",
       "    </tr>\n",
       "    <tr>\n",
       "      <th>21</th>\n",
       "      <td>panpipes</td>\n",
       "      <td>the pan pipe collection</td>\n",
       "    </tr>\n",
       "    <tr>\n",
       "      <th>22</th>\n",
       "      <td>art de chor</td>\n",
       "      <td>advent 2004</td>\n",
       "    </tr>\n",
       "    <tr>\n",
       "      <th>23</th>\n",
       "      <td>chafino</td>\n",
       "      <td>el breve infinito</td>\n",
       "    </tr>\n",
       "    <tr>\n",
       "      <th>24</th>\n",
       "      <td>schabuwan</td>\n",
       "      <td>sweeping up the jokers</td>\n",
       "    </tr>\n",
       "    <tr>\n",
       "      <th>25</th>\n",
       "      <td>suzanne vega</td>\n",
       "      <td>eigene zusammenstellung</td>\n",
       "    </tr>\n",
       "  </tbody>\n",
       "</table>\n",
       "</div>"
      ],
      "text/plain": [
       "                                 artist                               album\n",
       "0                       groove coverage                             best of\n",
       "1                       groove coverage                             best of\n",
       "2                       groove coverage                             best of\n",
       "3                        aselin debison                    moonlight shadow\n",
       "4                           the shadows                        life storyof\n",
       "5                                  koto                                koto\n",
       "6                                  koto        plays synthesizer world hits\n",
       "7                         mike oldfield                              crises\n",
       "8                           dana winner                       unforgettable\n",
       "9                         mike oldfield     art in heaven (live in berlin);\n",
       "10                        maggie reilly                there and back again\n",
       "11                        mike oldfield  the best of mike oldfield elements\n",
       "12                        mike oldfield          the complete mike oldfield\n",
       "13                             panflute                           the magic\n",
       "14         royal philharmonic orchestra                         rock dreams\n",
       "15             a magia dos instrumentos                 a beleza das cordas\n",
       "16  royal philharmonic orchestra london                       rock dreams 2\n",
       "17                      groove coverage                           covergirl\n",
       "18                      groove coverage                           covergirl\n",
       "19                      groove coverage                           covergirl\n",
       "20                      groove coverage                           covergirl\n",
       "21                             panpipes             the pan pipe collection\n",
       "22                          art de chor                         advent 2004\n",
       "23                              chafino                   el breve infinito\n",
       "24                            schabuwan              sweeping up the jokers\n",
       "25                         suzanne vega             eigene zusammenstellung"
      ]
     },
     "execution_count": 6,
     "metadata": {},
     "output_type": "execute_result"
    }
   ],
   "source": [
    "query = \"\"\"\n",
    "MATCH (c:CD)-[r1:CONTAINS]->(ar:Artist)\n",
    "MATCH (c:CD)-[r2:CONTAINS]->(ab:Album)\n",
    "MATCH (c:CD)-[r3:CONTAINS]->(s:Song)\n",
    "WHERE s.song =~ '.*moonlight shadow.*'\n",
    "RETURN ar.artist as artist, ab.album as album\n",
    "\"\"\"\n",
    "        \n",
    "dtf_data = pd.DataFrame([dict(_) for _ in session.run(query)])\n",
    "dtf_data"
   ]
  }
 ],
 "metadata": {
  "kernelspec": {
   "display_name": "Python 3 (ipykernel)",
   "language": "python",
   "name": "python3"
  },
  "language_info": {
   "codemirror_mode": {
    "name": "ipython",
    "version": 3
   },
   "file_extension": ".py",
   "mimetype": "text/x-python",
   "name": "python",
   "nbconvert_exporter": "python",
   "pygments_lexer": "ipython3",
   "version": "3.9.7"
  }
 },
 "nbformat": 4,
 "nbformat_minor": 4
}
