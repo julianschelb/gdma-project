{
 "cells": [
  {
   "cell_type": "markdown",
   "metadata": {
    "tags": []
   },
   "source": [
    "# GDMA Project\n",
    "Author: Julian Schelb (1069967)"
   ]
  },
  {
   "cell_type": "code",
   "execution_count": 2,
   "metadata": {},
   "outputs": [],
   "source": [
    "from neo4j import GraphDatabase\n",
    "import matplotlib.pyplot as plt\n",
    "import numpy as np\n",
    "import pandas as pd"
   ]
  },
  {
   "cell_type": "markdown",
   "metadata": {},
   "source": [
    "### Connection to the database instance"
   ]
  },
  {
   "cell_type": "code",
   "execution_count": 3,
   "metadata": {},
   "outputs": [],
   "source": [
    "driver = GraphDatabase.driver(\"bolt://localhost:7687\", auth=(\"neo4j\", \"subatomic-shrank-Respond\"))\n",
    "database_name = \"cddb\""
   ]
  },
  {
   "cell_type": "markdown",
   "metadata": {},
   "source": [
    "### Task 1: Import Data\n",
    "\n",
    "*Task description:* In this project you are given the data of FreeDB (cddb) that contains information about music records. The data is stored in a relational database, i.e.,\n",
    "PostgreSQL. You will find the sql dump file to load the data into your local\n",
    "PostgresSQl at the course website. After importing the data into Postgres you\n",
    "need to accomplish the following tasks\n",
    "\n",
    "Write code or describe the operations in order to load the data into Neo4j. Note\n",
    "that it is not obligatory to write SQL Code. It is totally acceptable if you decide\n",
    "to export the database to CSV files and then use the CSV files to import the\n",
    "data into Neo4j. However, you need to provide a sufficient amount of details on\n",
    "how you modelled the data in Neo4j and elaborate on all the implementation\n",
    "and design decisions you took. Note that for this task, you are not allowed to\n",
    "use any external tools, e.g. the ETL tool of Neo4j."
   ]
  },
  {
   "cell_type": "markdown",
   "metadata": {},
   "source": [
    "![](Figures/cddb_as_graph-Default.png)"
   ]
  },
  {
   "cell_type": "markdown",
   "metadata": {},
   "source": [
    "**Notes:**\n",
    "\n",
    "- Relation between artist and cd? \n",
    "- Create Indexes?\n",
    "- Create Contrains?\n",
    "- Data Cleaning? -> Remove Linebreaks from e.g. songtitles"
   ]
  },
  {
   "cell_type": "markdown",
   "metadata": {},
   "source": [
    "#### Remove all Nodes"
   ]
  },
  {
   "cell_type": "code",
   "execution_count": 5,
   "metadata": {},
   "outputs": [],
   "source": [
    "query = \"\"\"\n",
    "match (a) delete a\n",
    "\"\"\"\n",
    "\n",
    "with driver.session(database=database_name) as session:\n",
    "    result = session.run(query)\n",
    "    \n",
    "    \n",
    "query = \"\"\"\n",
    "match (a) -[r] -> () delete a, r\n",
    "\"\"\"\n",
    "\n",
    "with driver.session(database=database_name) as session:\n",
    "    result = session.run(query)"
   ]
  },
  {
   "cell_type": "markdown",
   "metadata": {
    "tags": []
   },
   "source": [
    "#### Importing Albums"
   ]
  },
  {
   "cell_type": "code",
   "execution_count": 6,
   "metadata": {},
   "outputs": [],
   "source": [
    "query = \"\"\"\n",
    "USING PERIODIC COMMIT 1000\n",
    "LOAD CSV FROM 'file:///albums_202206062116.csv' AS row FIELDTERMINATOR ','\n",
    "WITH toInteger(row[0]) as albumid, row[1] as album SKIP 0 LIMIT 100000\n",
    "CREATE (n:Album {id: albumid, album: album})\n",
    "//RETURN albumid, album\n",
    "\"\"\"\n",
    "\n",
    "with driver.session(database=database_name) as session:\n",
    "    result = session.run(query)"
   ]
  },
  {
   "cell_type": "markdown",
   "metadata": {},
   "source": [
    "#### Importing Genres"
   ]
  },
  {
   "cell_type": "code",
   "execution_count": 7,
   "metadata": {},
   "outputs": [],
   "source": [
    "query = \"\"\"\n",
    "USING PERIODIC COMMIT 1000\n",
    "LOAD CSV FROM 'file:///genres_202206062119.csv' AS row FIELDTERMINATOR ','\n",
    "WITH toInteger(row[0]) as genreid, row[1] as genre SKIP 0 LIMIT 150000\n",
    "CREATE (n:Genre {id: genreid, genre: genre})\n",
    "\"\"\"\n",
    "\n",
    "with driver.session(database=database_name) as session:\n",
    "    result = session.run(query)"
   ]
  },
  {
   "cell_type": "markdown",
   "metadata": {},
   "source": [
    "#### Importing Artists"
   ]
  },
  {
   "cell_type": "code",
   "execution_count": 8,
   "metadata": {},
   "outputs": [],
   "source": [
    "query = \"\"\"\n",
    "USING PERIODIC COMMIT 1000\n",
    "LOAD CSV FROM 'file:///artists_202206062119.csv' AS row FIELDTERMINATOR ','\n",
    "WITH toInteger(row[0]) as artistid, row[1] as artist SKIP 0 LIMIT 150000\n",
    "CREATE (n:Artist {id: artistid, artist: artist})\n",
    "\"\"\"\n",
    "\n",
    "with driver.session(database=database_name) as session:\n",
    "    result = session.run(query)"
   ]
  },
  {
   "cell_type": "markdown",
   "metadata": {
    "tags": []
   },
   "source": [
    "#### Importing Songs"
   ]
  },
  {
   "cell_type": "markdown",
   "metadata": {},
   "source": [
    "Songs with a trailing backslash will couse problems because the closing quote will be escaped. To mitigate this, I added an extra whitespace character to those song titles.\n",
    "\n",
    "``` sql\n",
    "SELECT * \n",
    "from cddb.songs s \n",
    "where song like '%\\\\' \n",
    "  and song not like '%\\\\\\\\'\n",
    "```\n",
    "\n",
    "Statement to update the rows:\n",
    "\n",
    "``` sql\n",
    "UPDATE cddb.songs \n",
    "SET song = song || ' ' \n",
    "WHERE song LIKE '%\\\\' \n",
    "  AND song NOT LIKE '%\\\\\\\\'\n",
    "```"
   ]
  },
  {
   "cell_type": "code",
   "execution_count": 10,
   "metadata": {
    "tags": []
   },
   "outputs": [],
   "source": [
    "query = \"\"\"\n",
    "USING PERIODIC COMMIT 5000\n",
    "LOAD CSV FROM 'file:///songs_202206072212.csv' AS row FIELDTERMINATOR ','\n",
    "WITH toInteger(row[0]) as songid, row[1] as song\n",
    "CREATE (n:Song {id: songid, song: song})\n",
    "\"\"\"\n",
    "\n",
    "with driver.session(database=database_name) as session:\n",
    "    result = session.run(query)"
   ]
  },
  {
   "cell_type": "code",
   "execution_count": null,
   "metadata": {},
   "outputs": [],
   "source": []
  }
 ],
 "metadata": {
  "kernelspec": {
   "display_name": "Python 3 (ipykernel)",
   "language": "python",
   "name": "python3"
  },
  "language_info": {
   "codemirror_mode": {
    "name": "ipython",
    "version": 3
   },
   "file_extension": ".py",
   "mimetype": "text/x-python",
   "name": "python",
   "nbconvert_exporter": "python",
   "pygments_lexer": "ipython3",
   "version": "3.9.7"
  }
 },
 "nbformat": 4,
 "nbformat_minor": 4
}
