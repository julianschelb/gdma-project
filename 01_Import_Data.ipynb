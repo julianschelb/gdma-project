{
 "cells": [
  {
   "cell_type": "markdown",
   "metadata": {},
   "source": [
    "# Tutorial 2"
   ]
  },
  {
   "cell_type": "code",
   "execution_count": 1,
   "metadata": {},
   "outputs": [],
   "source": [
    "from neo4j import GraphDatabase\n",
    "import matplotlib.pyplot as plt\n",
    "import numpy as np\n"
   ]
  },
  {
   "cell_type": "markdown",
   "metadata": {},
   "source": [
    "### Connection to the database instance"
   ]
  },
  {
   "cell_type": "code",
   "execution_count": 2,
   "metadata": {},
   "outputs": [],
   "source": [
    "driver = GraphDatabase.driver(\"bolt://localhost:7687\", auth=(\"neo4j\", \"12345\"))"
   ]
  },
  {
   "cell_type": "markdown",
   "metadata": {},
   "source": [
    "### Question 1\n",
    "\n",
    "Find all actors that directed a movie they also acted in and print the actor's name and the titles of the movies as a list."
   ]
  },
  {
   "cell_type": "code",
   "execution_count": 3,
   "metadata": {},
   "outputs": [
    {
     "name": "stdout",
     "output_type": "stream",
     "text": [
      "Tom Hanks ['That Thing You Do']\n",
      "Clint Eastwood ['Unforgiven']\n",
      "Danny DeVito ['Hoffa']\n"
     ]
    }
   ],
   "source": [
    "query = \"\"\"\n",
    "MATCH (a:Person)-[:DIRECTED]->(b:Movie), (a:Person)-[:ACTED_IN]->(b:Movie)\n",
    "RETURN a.name AS name, collect(b.title) AS titles\n",
    "\"\"\"\n",
    "\n",
    "with driver.session() as session:\n",
    "    result = session.run(query)\n",
    "    for record in result:\n",
    "        print(record[\"name\"], record[\"titles\"])"
   ]
  },
  {
   "cell_type": "markdown",
   "metadata": {},
   "source": [
    "### Question 2\n",
    "\n",
    "Find all reviewer pairs, one following the other, and return the names of the two reviewers. If they have both reviewed the same movie, return the title of the movie as well."
   ]
  },
  {
   "cell_type": "code",
   "execution_count": 4,
   "metadata": {},
   "outputs": [
    {
     "name": "stdout",
     "output_type": "stream",
     "text": [
      "James Thompson Jessica Thompson The Da Vinci Code\n",
      "James Thompson Jessica Thompson The Replacements\n",
      "Angela Scope Jessica Thompson The Replacements\n"
     ]
    }
   ],
   "source": [
    "query = \"\"\"\n",
    "MATCH (a:Person)-[:REVIEWED]->(:Movie),\n",
    "(b:Person)-[:REVIEWED]->(:Movie),\n",
    "(a:Person)-[:FOLLOWS]->(b:Person)\n",
    "OPTIONAL MATCH (a:Person)-[:REVIEWED]->(m:Movie)<-[:REVIEWED]-(b:Person)\n",
    "RETURN DISTINCT a.name AS name1, b.name AS name2, m.title AS title\n",
    "\"\"\"\n",
    "        \n",
    "with driver.session() as session:\n",
    "    result = session.run(query)\n",
    "    for record in result:\n",
    "        print(record[\"name1\"],record[\"name2\"],record[\"title\"])"
   ]
  },
  {
   "cell_type": "markdown",
   "metadata": {},
   "source": [
    "### Question 3\n",
    "\n",
    "Restrict the previous query so that the first letter of the name of both reviewers is 'J'."
   ]
  },
  {
   "cell_type": "code",
   "execution_count": 5,
   "metadata": {},
   "outputs": [
    {
     "name": "stdout",
     "output_type": "stream",
     "text": [
      "James Thompson Jessica Thompson The Da Vinci Code\n",
      "James Thompson Jessica Thompson The Replacements\n"
     ]
    }
   ],
   "source": [
    "query = \"\"\"\n",
    "MATCH (a:Person)-[:REVIEWED]->(:Movie), (b:Person)-[:REVIEWED]->(:Movie), (a:Person)-[:FOLLOWS]->(b:Person)\n",
    "WHERE a.name STARTS WITH 'J'\n",
    "AND b.name STARTS WITH 'J'\n",
    "OPTIONAL MATCH (a:Person)-[:REVIEWED]->(m:Movie)<-[:REVIEWED]-(b:Person)\n",
    "RETURN DISTINCT a.name AS name1, b.name AS name2, m.title AS title\n",
    "\"\"\"\n",
    "        \n",
    "with driver.session() as session:\n",
    "    result = session.run(query)\n",
    "    for record in result:\n",
    "        print(record[\"name1\"],record[\"name2\"],record[\"title\"])"
   ]
  },
  {
   "cell_type": "markdown",
   "metadata": {},
   "source": [
    "### Question 4\n",
    "\n",
    "Find all actors that have acted in a movie together after 2010 and return their names and the movie title."
   ]
  },
  {
   "cell_type": "code",
   "execution_count": 6,
   "metadata": {},
   "outputs": [
    {
     "name": "stdout",
     "output_type": "stream",
     "text": [
      "Jim Broadbent Tom Hanks Cloud Atlas\n",
      "Halle Berry Tom Hanks Cloud Atlas\n",
      "Hugo Weaving Tom Hanks Cloud Atlas\n",
      "Halle Berry Jim Broadbent Cloud Atlas\n",
      "Hugo Weaving Jim Broadbent Cloud Atlas\n",
      "Halle Berry Hugo Weaving Cloud Atlas\n"
     ]
    }
   ],
   "source": [
    "query = \"\"\"\n",
    "MATCH (a:Person)-[:ACTED_IN]->(m:Movie)<-[:ACTED_IN]-(b:Person)\n",
    "WHERE m.released > 2010\n",
    "AND a.name < b.name\n",
    "RETURN DISTINCT a.name AS name1, b.name AS name2, m.title AS title\n",
    "\"\"\"\n",
    "        \n",
    "with driver.session() as session:\n",
    "    result = session.run(query)\n",
    "    for record in result:\n",
    "        print(record[\"name1\"],record[\"name2\"],record[\"title\"])"
   ]
  },
  {
   "cell_type": "markdown",
   "metadata": {},
   "source": [
    "### Question 5\n",
    "\n",
    "Find all actors that have acted in at least 3 movies together, and print the names of the actors and the movie titles as a list."
   ]
  },
  {
   "cell_type": "code",
   "execution_count": 7,
   "metadata": {},
   "outputs": [
    {
     "name": "stdout",
     "output_type": "stream",
     "text": [
      "Carrie-Anne Moss Hugo Weaving ['The Matrix', 'The Matrix Reloaded', 'The Matrix Revolutions']\n",
      "Hugo Weaving Laurence Fishburne ['The Matrix', 'The Matrix Reloaded', 'The Matrix Revolutions']\n",
      "Carrie-Anne Moss Laurence Fishburne ['The Matrix', 'The Matrix Reloaded', 'The Matrix Revolutions']\n",
      "Keanu Reeves Laurence Fishburne ['The Matrix', 'The Matrix Reloaded', 'The Matrix Revolutions']\n",
      "Hugo Weaving Keanu Reeves ['The Matrix', 'The Matrix Reloaded', 'The Matrix Revolutions']\n",
      "Carrie-Anne Moss Keanu Reeves ['The Matrix', 'The Matrix Reloaded', 'The Matrix Revolutions']\n",
      "Meg Ryan Tom Hanks [\"You've Got Mail\", 'Sleepless in Seattle', 'Joe Versus the Volcano']\n"
     ]
    }
   ],
   "source": [
    "query = \"\"\"\n",
    "MATCH (a:Person)-[:ACTED_IN]->(m:Movie)<-[:ACTED_IN]-(b:Person)\n",
    "WITH a.name AS name1, b.name AS name2, collect(m.title) AS col\n",
    "WHERE size(col) >= 3\n",
    "AND name1 < name2\n",
    "RETURN DISTINCT name1, name2, col\n",
    "\"\"\"\n",
    "        \n",
    "with driver.session() as session:\n",
    "    result = session.run(query)\n",
    "    for record in result:\n",
    "        print(record[\"name1\"],record[\"name2\"],record[\"col\"])"
   ]
  },
  {
   "cell_type": "markdown",
   "metadata": {},
   "source": [
    "### Question 6\n",
    "\n",
    "Match all reviewers and the one they are following directly or via another a third reviewer. Print also the degree of their connection."
   ]
  },
  {
   "cell_type": "code",
   "execution_count": 8,
   "metadata": {},
   "outputs": [
    {
     "name": "stdout",
     "output_type": "stream",
     "text": [
      "James Thompson Jessica Thompson 1\n",
      "James Thompson Jessica Thompson 1\n",
      "Angela Scope Jessica Thompson 1\n",
      "James Thompson Jessica Thompson 1\n",
      "James Thompson Jessica Thompson 1\n",
      "Angela Scope Jessica Thompson 1\n",
      "James Thompson Jessica Thompson 1\n",
      "James Thompson Jessica Thompson 1\n",
      "Angela Scope Jessica Thompson 1\n",
      "James Thompson Jessica Thompson 1\n",
      "James Thompson Jessica Thompson 1\n",
      "Angela Scope Jessica Thompson 1\n",
      "James Thompson Jessica Thompson 1\n",
      "James Thompson Jessica Thompson 1\n",
      "Angela Scope Jessica Thompson 1\n",
      "James Thompson Jessica Thompson 1\n",
      "James Thompson Jessica Thompson 1\n",
      "Angela Scope Jessica Thompson 1\n"
     ]
    }
   ],
   "source": [
    "query = \"\"\"\n",
    "MATCH (a:Person)-[:REVIEWED]->(:Movie), (b:Person)-[:REVIEWED]->(:Movie)\n",
    "MATCH p=(a:Person)-[:FOLLOWS*..2]->(b:Person)\n",
    "RETURN a.name, b.name, length(p) AS degree\n",
    "\"\"\"\n",
    "        \n",
    "with driver.session() as session:\n",
    "    result = session.run(query)\n",
    "    for record in result:\n",
    "        print(record[\"a.name\"],record[\"b.name\"],record[\"degree\"])"
   ]
  },
  {
   "cell_type": "markdown",
   "metadata": {},
   "source": [
    "### Question 7\n",
    "\n",
    "Count the people that can be reached from Clint Eastwood in at most 4 hops ignoring edge direction"
   ]
  },
  {
   "cell_type": "code",
   "execution_count": 9,
   "metadata": {},
   "outputs": [
    {
     "name": "stdout",
     "output_type": "stream",
     "text": [
      "36\n"
     ]
    }
   ],
   "source": [
    "query = \"\"\"\n",
    "MATCH (a:Person {name: 'Clint Eastwood'})-[*..4]-(b:Person)\n",
    "WHERE a <> b\n",
    "RETURN count(DISTINCT b) AS cnt\n",
    "\"\"\"\n",
    "        \n",
    "with driver.session() as session:\n",
    "    result = session.run(query)\n",
    "    for record in result:\n",
    "        print(record[\"cnt\"])"
   ]
  },
  {
   "cell_type": "markdown",
   "metadata": {},
   "source": [
    "### Question 8\n",
    "\n",
    "Determine the average age of the Apollo 13 cast at the time of the release of the movie."
   ]
  },
  {
   "cell_type": "code",
   "execution_count": 10,
   "metadata": {},
   "outputs": [
    {
     "name": "stdout",
     "output_type": "stream",
     "text": [
      "40.2\n"
     ]
    }
   ],
   "source": [
    "query = \"\"\"\n",
    "MATCH (a:Person)-[:ACTED_IN]->(b:Movie {title: 'Apollo 13'})\n",
    "RETURN avg(b.released-a.born) AS avgAge\n",
    "\"\"\"\n",
    "        \n",
    "with driver.session() as session:\n",
    "    result = session.run(query)\n",
    "    for record in result:\n",
    "        print(record[\"avgAge\"])"
   ]
  },
  {
   "cell_type": "markdown",
   "metadata": {},
   "source": [
    "### Question 9\n",
    "\n",
    "Find the 10 movies with the oldest cast at the time of the movie’s release."
   ]
  },
  {
   "cell_type": "code",
   "execution_count": 11,
   "metadata": {},
   "outputs": [
    {
     "name": "stdout",
     "output_type": "stream",
     "text": [
      "Unforgiven 62.0\n",
      "Cloud Atlas 54.25\n",
      "Something's Gotta Give 54.0\n",
      "The Birdcage 50.333333333333336\n",
      "Frost/Nixon 49.4\n",
      "The Polar Express 48.0\n",
      "What Dreams May Come 48.0\n",
      "V for Vendetta 47.2\n",
      "RescueDawn 46.75\n",
      "Snow Falling on Cedars 46.5\n"
     ]
    }
   ],
   "source": [
    "query = \"\"\"\n",
    "MATCH (a:Person)-[:ACTED_IN]->(b:Movie)\n",
    "WITH b, avg(b.released-a.born) AS avgAge\n",
    "RETURN b.title AS title, avgAge \n",
    "ORDER BY avgAge DESC\n",
    "LIMIT 10\n",
    "\"\"\"\n",
    "        \n",
    "with driver.session() as session:\n",
    "    result = session.run(query)\n",
    "    for record in result:\n",
    "        print(record[\"title\"],record[\"avgAge\"])"
   ]
  },
  {
   "cell_type": "markdown",
   "metadata": {},
   "source": [
    "### Question 10\n",
    "\n",
    "Find the youngest actors in each movie cast at time of release and compute the average age of all such actors."
   ]
  },
  {
   "cell_type": "code",
   "execution_count": 12,
   "metadata": {},
   "outputs": [
    {
     "name": "stdout",
     "output_type": "stream",
     "text": [
      "30.842105263157894\n"
     ]
    }
   ],
   "source": [
    "query = \"\"\"\n",
    "MATCH (a:Person)-[:ACTED_IN]->(b:Movie)\n",
    "WITH b, min(b.released-a.born) AS minAge\n",
    "RETURN avg(minAge) AS avgMinAge\n",
    "\"\"\"\n",
    "        \n",
    "with driver.session() as session:\n",
    "    result = session.run(query)\n",
    "    for record in result:\n",
    "        print(record[\"avgMinAge\"])"
   ]
  },
  {
   "cell_type": "markdown",
   "metadata": {},
   "source": [
    "### Question 11\n",
    "\n",
    "Print the degree distribution of all nodes representing movies."
   ]
  },
  {
   "cell_type": "code",
   "execution_count": 16,
   "metadata": {},
   "outputs": [
    {
     "data": {
      "image/png": "[encoded data removed]",
      "text/plain": [
       "<Figure size 432x288 with 1 Axes>"
      ]
     },
     "metadata": {
      "needs_background": "light"
     },
     "output_type": "display_data"
    }
   ],
   "source": [
    "query = \"\"\"\n",
    "MATCH ()-[r]-(m:Movie)\n",
    "WITH m, count(DISTINCT r) AS degree\n",
    "RETURN degree\n",
    "ORDER BY degree ASC\"\"\"\n",
    "\n",
    "x = []\n",
    "        \n",
    "with driver.session() as session:\n",
    "    result = session.run(query)\n",
    "    for record in result:\n",
    "        x.append(int(record[\"degree\"]))\n",
    "    \n",
    "plt.hist(x, density=True, bins=(max(x)-min(x)+1)) \n",
    "plt.ylabel('# Nodes')\n",
    "plt.xlabel('Degree');\n",
    "plt.show()"
   ]
  },
  {
   "cell_type": "code",
   "execution_count": 24,
   "metadata": {},
   "outputs": [
    {
     "data": {
      "image/png": "[encoded data removed]",
      "text/plain": [
       "<Figure size 432x288 with 1 Axes>"
      ]
     },
     "metadata": {
      "needs_background": "light"
     },
     "output_type": "display_data"
    }
   ],
   "source": [
    "query = \"\"\"\n",
    "MATCH (a:Movie)\n",
    "WITH count(a) AS movieCount\n",
    "MATCH ()-[r]-(m:Movie)\n",
    "WITH m, count(DISTINCT r) AS degree, movieCount\n",
    "RETURN degree, (count(degree)/toFloat(movieCount)) AS cnt\n",
    "ORDER BY degree ASC\"\"\"\n",
    "\n",
    "x = []\n",
    "y = []\n",
    "        \n",
    "with driver.session() as session:\n",
    "    result = session.run(query)\n",
    "    for record in result:\n",
    "        x.append(int(record[\"degree\"]))\n",
    "        y.append(float(record[\"cnt\"]))\n",
    "\n",
    "plt.bar(x,y)\n",
    "plt.ylabel('# Nodes')\n",
    "plt.xlabel('Degree');\n",
    "plt.show()\n"
   ]
  },
  {
   "cell_type": "markdown",
   "metadata": {},
   "source": [
    "### Question 12\n",
    "\n",
    "Print the number of occurences of relationships of each type. Print both the type and the number of accurences."
   ]
  },
  {
   "cell_type": "code",
   "execution_count": 14,
   "metadata": {},
   "outputs": [
    {
     "name": "stdout",
     "output_type": "stream",
     "text": [
      "ACTED_IN 172\n",
      "PRODUCED 15\n",
      "DIRECTED 44\n",
      "WROTE 10\n",
      "REVIEWED 9\n",
      "FOLLOWS 3\n"
     ]
    }
   ],
   "source": [
    "query = \"\"\"\n",
    "MATCH ()-[r]->()\n",
    "WITH type(r) AS edgeType, count(type(r)) AS typeCount\n",
    "RETURN edgeType, typeCount\n",
    "\"\"\"\n",
    "        \n",
    "with driver.session() as session:\n",
    "    result = session.run(query)\n",
    "    for record in result:\n",
    "        print(record[\"edgeType\"], record[\"typeCount\"])"
   ]
  },
  {
   "cell_type": "markdown",
   "metadata": {},
   "source": [
    "### Question 13\n",
    "\n",
    "Find the number of movies that have an average rating higher than 50 and have a tagline. Print the title of the movie and the tagline."
   ]
  },
  {
   "cell_type": "code",
   "execution_count": 15,
   "metadata": {},
   "outputs": [
    {
     "name": "stdout",
     "output_type": "stream",
     "text": [
      "Jerry Maguire The rest of his life begins now.\n",
      "The Replacements Pain heals, Chicks dig scars... Glory lasts forever\n",
      "Unforgiven It's a hell of a thing, killing a man\n",
      "Cloud Atlas Everything is connected\n",
      "The Da Vinci Code Break The Codes\n"
     ]
    }
   ],
   "source": [
    "query = \"\"\"\n",
    "MATCH ()-[r:REVIEWED]->(m)\n",
    "WITH m, avg(r.rating) AS rating\n",
    "WHERE m.tagline IS NOT NULL\n",
    "AND rating > 50\n",
    "RETURN m.title AS title, m.tagline AS tagline\n",
    "\"\"\"\n",
    "        \n",
    "with driver.session() as session:\n",
    "    result = session.run(query)\n",
    "    for record in result:\n",
    "        print(record[\"title\"], record[\"tagline\"])"
   ]
  },
  {
   "cell_type": "markdown",
   "metadata": {},
   "source": [
    "### Question 14\n",
    "\n",
    "Find for each actor the highest rating a movie he has acted in has received (cosider the average of all ratings for each movie). Order the results in alphabetical order of the actors surname (assume each actor has one first name and one last name)."
   ]
  },
  {
   "cell_type": "code",
   "execution_count": 16,
   "metadata": {},
   "outputs": [
    {
     "name": "stdout",
     "output_type": "stream",
     "text": [
      "Halle Berry 95.0\n",
      "Paul Bettany 66.5\n",
      "Jim Broadbent 95.0\n",
      "Tom Cruise 92.0\n",
      "Clint Eastwood 85.0\n",
      "Cuba Gooding Jr. 92.0\n",
      "Gene Hackman 85.0\n",
      "Tom Hanks 95.0\n",
      "Richard Harris 85.0\n",
      "Bonnie Hunt 92.0\n",
      "Orlando Jones 75.66666666666667\n",
      "Regina King 92.0\n",
      "Nathan Lane 45.0\n",
      "Brooke Langton 75.66666666666667\n",
      "Jonathan Lipnicki 92.0\n",
      "Ian McKellen 66.5\n",
      "Jay Mohr 92.0\n",
      "Jerry O'Connell 92.0\n",
      "Kelly Preston 92.0\n",
      "Keanu Reeves 75.66666666666667\n",
      "Audrey Tautou 66.5\n",
      "Hugo Weaving 95.0\n",
      "Robin Williams 45.0\n",
      "Renee Zellweger 92.0\n"
     ]
    }
   ],
   "source": [
    "query = \"\"\"\n",
    "MATCH ()-[r:REVIEWED]->(b)\n",
    "WITH b, avg(r.rating) AS rating\n",
    "MATCH (a)-[:ACTED_IN]->(b)\n",
    "WITH a.name AS aName, max(rating) AS maxR\n",
    "RETURN DISTINCT aName, maxR\n",
    "ORDER BY tail(split(aName,' '))\n",
    "\"\"\"\n",
    "        \n",
    "with driver.session() as session:\n",
    "    result = session.run(query)\n",
    "    for record in result:\n",
    "        print(record[\"aName\"],record[\"maxR\"])"
   ]
  },
  {
   "cell_type": "markdown",
   "metadata": {},
   "source": [
    "### Question 15\n",
    "\n",
    "Find the Bacon number of each actor. \n",
    "\n",
    "- Kevin Bacon himself has a Bacon number of 0.\n",
    "- Those actors who have worked directly with Kevin Bacon have a Bacon number of 1.\n",
    "- If the lowest Bacon number of any actor with whom X has appeared in any movie is N, X's Bacon number is N+1."
   ]
  },
  {
   "cell_type": "code",
   "execution_count": 17,
   "metadata": {},
   "outputs": [
    {
     "name": "stdout",
     "output_type": "stream",
     "text": [
      "Keanu Reeves 2\n",
      "Carrie-Anne Moss 3\n",
      "Laurence Fishburne 3\n",
      "Hugo Weaving 2\n",
      "Emil Eifrem 3\n",
      "Charlize Theron 2\n",
      "Al Pacino 3\n",
      "Tom Cruise 1\n",
      "Jack Nicholson 1\n",
      "Demi Moore 1\n",
      "Kiefer Sutherland 1\n",
      "Noah Wyle 1\n",
      "Cuba Gooding Jr. 1\n",
      "Kevin Pollak 1\n",
      "J.T. Walsh 1\n",
      "James Marshall 1\n",
      "Christopher Guest 1\n",
      "Aaron Sorkin 1\n",
      "Kelly McGillis 2\n",
      "Val Kilmer 2\n",
      "Anthony Edwards 2\n",
      "Tom Skerritt 2\n",
      "Meg Ryan 2\n",
      "Renee Zellweger 2\n",
      "Kelly Preston 2\n",
      "Jerry O'Connell 2\n",
      "Jay Mohr 2\n",
      "Bonnie Hunt 2\n",
      "Regina King 2\n",
      "Jonathan Lipnicki 2\n",
      "River Phoenix 2\n",
      "Corey Feldman 2\n",
      "Wil Wheaton 2\n",
      "John Cusack 2\n",
      "Marshall Bell 2\n",
      "Helen Hunt 2\n",
      "Greg Kinnear 2\n",
      "Annabella Sciorra 2\n",
      "Max von Sydow 2\n",
      "Werner Herzog 2\n",
      "Robin Williams 2\n",
      "Ethan Hawke 3\n",
      "Rick Yune 3\n",
      "James Cromwell 2\n",
      "Parker Posey 2\n",
      "Dave Chappelle 2\n",
      "Steve Zahn 2\n",
      "Tom Hanks 1\n",
      "Rita Wilson 2\n",
      "Bill Pullman 2\n",
      "Victor Garber 2\n",
      "Rosie O'Donnell 2\n",
      "Nathan Lane 2\n",
      "Billy Crystal 3\n",
      "Carrie Fisher 3\n",
      "Bruno Kirby 3\n",
      "Liv Tyler 2\n",
      "Brooke Langton 3\n",
      "Gene Hackman 3\n",
      "Orlando Jones 3\n",
      "Christian Bale 3\n",
      "Zach Grenier 2\n",
      "Richard Harris 4\n",
      "Clint Eastwood 4\n",
      "Takeshi Kitano 3\n",
      "Dina Meyer 3\n",
      "Ice-T 3\n",
      "Halle Berry 2\n",
      "Jim Broadbent 2\n",
      "Ian McKellen 2\n",
      "Audrey Tautou 2\n",
      "Paul Bettany 2\n",
      "Natalie Portman 3\n",
      "Stephen Rea 3\n",
      "John Hurt 3\n",
      "Ben Miles 3\n",
      "Emile Hirsch 4\n",
      "John Goodman 4\n",
      "Susan Sarandon 4\n",
      "Matthew Fox 4\n",
      "Christina Ricci 4\n",
      "Rain 4\n",
      "Naomie Harris 4\n",
      "Michael Clarke Duncan 2\n",
      "David Morse 2\n",
      "Sam Rockwell 1\n",
      "Gary Sinise 1\n",
      "Patricia Clarkson 2\n",
      "Frank Langella 1\n",
      "Michael Sheen 1\n",
      "Oliver Platt 1\n",
      "Danny DeVito 2\n",
      "John C. Reilly 2\n",
      "Ed Harris 1\n",
      "Bill Paxton 1\n",
      "Philip Seymour Hoffman 2\n",
      "Diane Keaton 2\n",
      "Julia Roberts 2\n",
      "Madonna 2\n",
      "Geena Davis 2\n",
      "Lori Petty 2\n"
     ]
    }
   ],
   "source": [
    "query = \"\"\"\n",
    "MATCH p=shortestPath((a:Person)-[:ACTED_IN*]-(b:Person))\n",
    "WHERE b.name = 'Kevin Bacon'\n",
    "AND a.name <> 'Kevin Bacon'\n",
    "RETURN a.name AS name, length(p)/2 AS baconNumber\n",
    "\"\"\"\n",
    "        \n",
    "with driver.session() as session:\n",
    "    result = session.run(query)\n",
    "    for record in result:\n",
    "        print(record[\"name\"],record[\"baconNumber\"])"
   ]
  },
  {
   "cell_type": "code",
   "execution_count": null,
   "metadata": {},
   "outputs": [],
   "source": []
  }
 ],
 "metadata": {
  "kernelspec": {
   "display_name": "Python 3 (ipykernel)",
   "language": "python",
   "name": "python3"
  },
  "language_info": {
   "codemirror_mode": {
    "name": "ipython",
    "version": 3
   },
   "file_extension": ".py",
   "mimetype": "text/x-python",
   "name": "python",
   "nbconvert_exporter": "python",
   "pygments_lexer": "ipython3",
   "version": "3.9.11"
  }
 },
 "nbformat": 4,
 "nbformat_minor": 2
}
