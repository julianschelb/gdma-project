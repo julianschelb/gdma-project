{
 "cells": [
  {
   "cell_type": "markdown",
   "metadata": {
    "tags": []
   },
   "source": [
    "# GDMA Project\n",
    "Author: Julian Schelb (1069967)"
   ]
  },
  {
   "cell_type": "code",
   "execution_count": 1,
   "metadata": {},
   "outputs": [],
   "source": [
    "from neo4j import GraphDatabase\n",
    "import matplotlib.pyplot as plt\n",
    "import numpy as np\n",
    "import pandas as pd"
   ]
  },
  {
   "cell_type": "markdown",
   "metadata": {},
   "source": [
    "### Connection to the database instance"
   ]
  },
  {
   "cell_type": "code",
   "execution_count": 2,
   "metadata": {},
   "outputs": [],
   "source": [
    "driver = GraphDatabase.driver(\"bolt://localhost:7687\", auth=(\"neo4j\", \"subatomic-shrank-Respond\"))\n",
    "database_name = \"cddb\""
   ]
  },
  {
   "cell_type": "markdown",
   "metadata": {},
   "source": [
    "***"
   ]
  },
  {
   "cell_type": "markdown",
   "metadata": {
    "tags": []
   },
   "source": [
    "### Task 1: Import Data\n",
    "\n",
    "*Task description:* In this project you are given the data of FreeDB (cddb) that contains information about music records. The data is stored in a relational database, i.e.,\n",
    "PostgreSQL. You will find the sql dump file to load the data into your local\n",
    "PostgresSQl at the course website. After importing the data into Postgres you\n",
    "need to accomplish the following tasks\n",
    "\n",
    "Write code or describe the operations in order to load the data into Neo4j. Note\n",
    "that it is not obligatory to write SQL Code. It is totally acceptable if you decide\n",
    "to export the database to CSV files and then use the CSV files to import the\n",
    "data into Neo4j. However, you need to provide a sufficient amount of details on\n",
    "how you modelled the data in Neo4j and elaborate on all the implementation\n",
    "and design decisions you took. Note that for this task, you are not allowed to\n",
    "use any external tools, e.g. the ETL tool of Neo4j."
   ]
  },
  {
   "cell_type": "markdown",
   "metadata": {},
   "source": [
    "***"
   ]
  },
  {
   "cell_type": "markdown",
   "metadata": {},
   "source": [
    "#### Design Decisions"
   ]
  },
  {
   "cell_type": "markdown",
   "metadata": {},
   "source": [
    "##### Graph Schema:\n",
    "![](Figures/cddb_as_graph-Default.png)"
   ]
  },
  {
   "cell_type": "markdown",
   "metadata": {},
   "source": [
    "##### Mappping of Tables\n",
    "Entries in tables *artists*, *albums*, *songs* and *cds* represent entities and are mapped to nodes of appropriate type. The cross table  *cdtracks* is mapped as relations between CDs and Songs with the property *track*. The cross table  *artist2album* is mapped as a triangular relationships, using six relations each to connect Artists, Albums and CDs in both directions.\n",
    "\n",
    "##### Bidirectional Relations\n",
    "\n",
    "To consgtruct the queries necessary for subsequent tasks, it was structly speaking not necessary to create relations for both directions. However, doing so allows for more readable queries. In addition, the relational SQL database does not define a direction for relations either, and this property is thereby preserved.\n",
    "\n",
    "##### Unique Identifiers\n",
    "The unique identifiers present in the SQL database are preserved as node properties. Although Neo4j automatically assigns different IDs internally, this preserves compatibility with the SQL version. It is conceivable that in the real worlds, queries may reference those IDs directly. For example as hardcoded list as part of a GUI.\n",
    "\n",
    "##### Entity Names\n",
    "As in the SQL version, the actual name of a *song*, *genre*, *album* and *artist* is a property named after the entity type and therefore different per node label. This was done to map the SQL version as closely as possible to the graph version. In real world scenarios it may be beneficial to rename these properties to *name* across all nodes. This would allow for simpler queries in cases where nodes of different types are filtered by name. Also, a joint full-text index would be possible.\n",
    "\n",
    "##### Indices\n",
    "To speed up *MERGE* and *MATCH* operations, the IDs for nodes with label *Artist*, *Album*, *Genre*, *Song* or *CD* are indexed. In addition, a full text index is used for the names of *Artists*, *Albums* and *Songs* to allow for imprecise searches (fuzzy search).\n",
    "\n",
    "##### Importing Songs\n",
    "\n",
    "Songs with a trailing backslashcoused problems because the closing quote is escaped. To mitigate this, an extra whitespace character is added to those song titles. Effected rows can be found with the following sql statement:\n",
    "\n",
    "``` sql\n",
    "SELECT * \n",
    "from cddb.songs s \n",
    "where song like '%\\\\' \n",
    "  and song not like '%\\\\\\\\'\n",
    "```\n",
    "\n",
    "Statement to update the rows:\n",
    "\n",
    "``` sql\n",
    "UPDATE cddb.songs \n",
    "SET song = song || ' ' \n",
    "WHERE song LIKE '%\\\\' \n",
    "  AND song NOT LIKE '%\\\\\\\\'\n",
    "```"
   ]
  },
  {
   "cell_type": "markdown",
   "metadata": {},
   "source": [
    "#### Remove all Nodes"
   ]
  },
  {
   "cell_type": "code",
   "execution_count": 3,
   "metadata": {},
   "outputs": [],
   "source": [
    "query = \"\"\"\n",
    "DROP DATABASE CDDB IF EXISTS\n",
    "\"\"\"\n",
    "\n",
    "with driver.session() as session:\n",
    "    result = session.run(query)"
   ]
  },
  {
   "cell_type": "code",
   "execution_count": 4,
   "metadata": {},
   "outputs": [],
   "source": [
    "query = \"\"\"\n",
    "CREATE DATABASE CDDB IF NOT EXISTS\n",
    "\"\"\"\n",
    "\n",
    "with driver.session() as session:\n",
    "    result = session.run(query)"
   ]
  },
  {
   "cell_type": "code",
   "execution_count": 5,
   "metadata": {},
   "outputs": [],
   "source": [
    "query = \"\"\"\n",
    "match (a) delete a\n",
    "\"\"\"\n",
    "\n",
    "with driver.session(database=database_name) as session:\n",
    "    result = session.run(query)\n",
    "    \n",
    "    \n",
    "query = \"\"\"\n",
    "match (a) -[r] -> () delete a, r\n",
    "\"\"\"\n",
    "\n",
    "with driver.session(database=database_name) as session:\n",
    "    result = session.run(query)"
   ]
  },
  {
   "cell_type": "markdown",
   "metadata": {
    "tags": []
   },
   "source": [
    "#### Import Albums"
   ]
  },
  {
   "cell_type": "code",
   "execution_count": 6,
   "metadata": {},
   "outputs": [],
   "source": [
    "query = \"\"\"\n",
    "USING PERIODIC COMMIT 1000\n",
    "LOAD CSV WITH HEADERS FROM 'file:///albums_202206062116.csv' AS row FIELDTERMINATOR ','\n",
    "WITH toInteger(row.albumid) as albumid, row.album as album SKIP 0 LIMIT 100000\n",
    "CREATE (n:Album {id: albumid, album: album})\n",
    "//RETURN albumid, album\n",
    "\"\"\"\n",
    "\n",
    "with driver.session(database=database_name) as session:\n",
    "    result = session.run(query)"
   ]
  },
  {
   "cell_type": "markdown",
   "metadata": {},
   "source": [
    "Create fulltext index enabling fuzzy search:  \n",
    "(see https://neo4j.com/docs/cypher-manual/current/indexes-for-full-text-search/)"
   ]
  },
  {
   "cell_type": "code",
   "execution_count": 7,
   "metadata": {},
   "outputs": [],
   "source": [
    "query = \"\"\"\n",
    "CREATE FULLTEXT INDEX albums IF NOT EXISTS FOR (a:Album) ON EACH [a.album]\n",
    "\"\"\"\n",
    "\n",
    "with driver.session(database=database_name) as session:\n",
    "    result = session.run(query)"
   ]
  },
  {
   "cell_type": "markdown",
   "metadata": {},
   "source": [
    "#### Import Genres"
   ]
  },
  {
   "cell_type": "code",
   "execution_count": 8,
   "metadata": {},
   "outputs": [],
   "source": [
    "query = \"\"\"\n",
    "USING PERIODIC COMMIT 1000\n",
    "LOAD CSV WITH HEADERS FROM 'file:///genres_202206062119.csv' AS row FIELDTERMINATOR ','\n",
    "WITH toInteger(row.genreid) as genreid, row.genre as genre SKIP 0 LIMIT 150000\n",
    "CREATE (n:Genre {id: genreid, genre: genre})\n",
    "\"\"\"\n",
    "\n",
    "with driver.session(database=database_name) as session:\n",
    "    result = session.run(query)"
   ]
  },
  {
   "cell_type": "markdown",
   "metadata": {},
   "source": [
    "#### Import Artists"
   ]
  },
  {
   "cell_type": "code",
   "execution_count": 9,
   "metadata": {},
   "outputs": [],
   "source": [
    "query = \"\"\"\n",
    "USING PERIODIC COMMIT 1000\n",
    "LOAD CSV WITH HEADERS FROM 'file:///artists_202206062119.csv' AS row FIELDTERMINATOR ','\n",
    "WITH toInteger(row.artistid) as artistid, row.artist as artist SKIP 0 LIMIT 150000\n",
    "CREATE (n:Artist {id: artistid, artist: artist})\n",
    "\"\"\"\n",
    "\n",
    "with driver.session(database=database_name) as session:\n",
    "    result = session.run(query)"
   ]
  },
  {
   "cell_type": "markdown",
   "metadata": {},
   "source": [
    "Create fulltext index enabling fuzzy search:"
   ]
  },
  {
   "cell_type": "code",
   "execution_count": 10,
   "metadata": {},
   "outputs": [],
   "source": [
    "query = \"\"\"\n",
    "CREATE FULLTEXT INDEX artists IF NOT EXISTS FOR (a:Artist) ON EACH [a.artist]\n",
    "\"\"\"\n",
    "\n",
    "with driver.session(database=database_name) as session:\n",
    "    result = session.run(query)"
   ]
  },
  {
   "cell_type": "markdown",
   "metadata": {
    "tags": []
   },
   "source": [
    "#### Import Songs"
   ]
  },
  {
   "cell_type": "markdown",
   "metadata": {},
   "source": [
    "Songs with a trailing backslash will couse problems because the closing quote will be escaped. To mitigate this, I added an extra whitespace character to those song titles.\n",
    "\n",
    "``` sql\n",
    "SELECT * \n",
    "from cddb.songs s \n",
    "where song like '%\\\\' \n",
    "  and song not like '%\\\\\\\\'\n",
    "```\n",
    "\n",
    "Statement to update the rows:\n",
    "\n",
    "``` sql\n",
    "UPDATE cddb.songs \n",
    "SET song = song || ' ' \n",
    "WHERE song LIKE '%\\\\' \n",
    "  AND song NOT LIKE '%\\\\\\\\'\n",
    "```"
   ]
  },
  {
   "cell_type": "code",
   "execution_count": 11,
   "metadata": {
    "tags": []
   },
   "outputs": [],
   "source": [
    "query = \"\"\"\n",
    "USING PERIODIC COMMIT 5000\n",
    "LOAD CSV WITH HEADERS FROM 'file:///songs_202206072212.csv' AS row FIELDTERMINATOR ','\n",
    "WITH toInteger(row.songid) as songid, row.song as song\n",
    "CREATE (n:Song {id: songid, song: song})\n",
    "\"\"\"\n",
    "\n",
    "with driver.session(database=database_name) as session:\n",
    "    result = session.run(query)"
   ]
  },
  {
   "cell_type": "markdown",
   "metadata": {},
   "source": [
    "Create fulltext index enabling fuzzy search:"
   ]
  },
  {
   "cell_type": "code",
   "execution_count": 12,
   "metadata": {},
   "outputs": [],
   "source": [
    "query = \"\"\"\n",
    "CREATE FULLTEXT INDEX songs IF NOT EXISTS FOR (a:Song) ON EACH [a.song]\n",
    "\"\"\"\n",
    "\n",
    "with driver.session(database=database_name) as session:\n",
    "    result = session.run(query)"
   ]
  },
  {
   "cell_type": "markdown",
   "metadata": {},
   "source": [
    "#### Import CDs "
   ]
  },
  {
   "cell_type": "code",
   "execution_count": 13,
   "metadata": {},
   "outputs": [],
   "source": [
    "query = \"\"\"\n",
    "USING PERIODIC COMMIT 5000\n",
    "LOAD CSV WITH HEADERS FROM 'file:///cds_202206062119.csv' AS row FIELDTERMINATOR ','\n",
    "WITH toInteger(row.cdid) as cdid, \n",
    "     toInteger(row.artist2albumid) as artist2albumid,\n",
    "               toInteger(row.ayear)  as ayear,\n",
    "     toInteger(row.genreid) as genreid,\n",
    "               row.discid  as discid\n",
    "CREATE (n:CD {id: cdid, artist2albumid: artist2albumid, ayear: ayear, genreid: genreid, discid: discid})\n",
    "\"\"\"\n",
    "\n",
    "with driver.session(database=database_name) as session:\n",
    "    result = session.run(query)"
   ]
  },
  {
   "cell_type": "markdown",
   "metadata": {},
   "source": [
    "#### Connect CDs to Songs"
   ]
  },
  {
   "cell_type": "code",
   "execution_count": 14,
   "metadata": {},
   "outputs": [],
   "source": [
    "query = \"\"\"\n",
    "CREATE INDEX IF NOT EXISTS FOR (n:CD) ON (n.id)\n",
    "\"\"\"\n",
    "\n",
    "with driver.session(database=database_name) as session:\n",
    "    result = session.run(query)\n",
    "\n",
    "query = \"\"\"\n",
    "CREATE INDEX IF NOT EXISTS FOR (n:Song) ON (n.id)\n",
    "\"\"\"\n",
    "\n",
    "with driver.session(database=database_name) as session:\n",
    "    result = session.run(query)"
   ]
  },
  {
   "cell_type": "code",
   "execution_count": null,
   "metadata": {},
   "outputs": [],
   "source": [
    "query = \"\"\"\n",
    "USING PERIODIC COMMIT 5000\n",
    "LOAD CSV WITH HEADERS FROM 'file:///cdtracks_202206062119.csv' AS row FIELDTERMINATOR ','\n",
    "WITH toInteger(row.songid) as songid, \n",
    "     toInteger(row.cdid) as cdid,\n",
    "     toInteger(row.track) as track\n",
    "MATCH (c:CD {id: cdid})\n",
    "MATCH (s:Song {id: songid})\n",
    "CREATE (c)-[r:CONTAINS {track: track}]->(s)\n",
    "\"\"\"\n",
    "\n",
    "with driver.session(database=database_name) as session:\n",
    "    result = session.run(query)"
   ]
  },
  {
   "cell_type": "code",
   "execution_count": null,
   "metadata": {},
   "outputs": [],
   "source": [
    "query = \"\"\"\n",
    "MATCH (c:CD)-[r:CONTAINS]->(s:Song)\n",
    "RETURN count(*)\n",
    "\"\"\"\n",
    "        \n",
    "dtf_data = pd.DataFrame([dict(_) for _ in session.run(query)])\n",
    "dtf_data"
   ]
  },
  {
   "cell_type": "markdown",
   "metadata": {},
   "source": [
    "**Other Direction:**"
   ]
  },
  {
   "cell_type": "code",
   "execution_count": 3,
   "metadata": {},
   "outputs": [],
   "source": [
    "query = \"\"\"\n",
    "USING PERIODIC COMMIT 5000\n",
    "LOAD CSV WITH HEADERS FROM 'file:///cdtracks_202206062119.csv' AS row FIELDTERMINATOR ','\n",
    "WITH toInteger(row.songid) as songid, \n",
    "     toInteger(row.cdid) as cdid,\n",
    "     toInteger(row.track) as track\n",
    "MATCH (c:CD {id: cdid})\n",
    "MATCH (s:Song {id: songid})\n",
    "CREATE (c)<-[r:APPEARED_ON {track: track}]-(s)\n",
    "\"\"\"\n",
    "\n",
    "with driver.session(database=database_name) as session:\n",
    "    result = session.run(query)"
   ]
  },
  {
   "cell_type": "code",
   "execution_count": 4,
   "metadata": {},
   "outputs": [
    {
     "data": {
      "text/html": [
       "<div>\n",
       "<style scoped>\n",
       "    .dataframe tbody tr th:only-of-type {\n",
       "        vertical-align: middle;\n",
       "    }\n",
       "\n",
       "    .dataframe tbody tr th {\n",
       "        vertical-align: top;\n",
       "    }\n",
       "\n",
       "    .dataframe thead th {\n",
       "        text-align: right;\n",
       "    }\n",
       "</style>\n",
       "<table border=\"1\" class=\"dataframe\">\n",
       "  <thead>\n",
       "    <tr style=\"text-align: right;\">\n",
       "      <th></th>\n",
       "      <th>count(*)</th>\n",
       "    </tr>\n",
       "  </thead>\n",
       "  <tbody>\n",
       "    <tr>\n",
       "      <th>0</th>\n",
       "      <td>1163691</td>\n",
       "    </tr>\n",
       "  </tbody>\n",
       "</table>\n",
       "</div>"
      ],
      "text/plain": [
       "   count(*)\n",
       "0   1163691"
      ]
     },
     "execution_count": 4,
     "metadata": {},
     "output_type": "execute_result"
    }
   ],
   "source": [
    "query = \"\"\"\n",
    "MATCH (c:CD)<-[r:APPEARED_ON]-(s:Song)\n",
    "RETURN count(*)\n",
    "\"\"\"\n",
    "        \n",
    "dtf_data = pd.DataFrame([dict(_) for _ in session.run(query)])\n",
    "dtf_data"
   ]
  },
  {
   "cell_type": "markdown",
   "metadata": {},
   "source": [
    "#### Connect CDs to Genre"
   ]
  },
  {
   "cell_type": "code",
   "execution_count": 5,
   "metadata": {},
   "outputs": [],
   "source": [
    "query = \"\"\"\n",
    "CREATE INDEX IF NOT EXISTS FOR (n:Genre) ON (n.id)\n",
    "\"\"\"\n",
    "\n",
    "with driver.session(database=database_name) as session:\n",
    "    result = session.run(query)\n"
   ]
  },
  {
   "cell_type": "code",
   "execution_count": 6,
   "metadata": {},
   "outputs": [],
   "source": [
    "query = \"\"\"\n",
    "MATCH (c:CD)\n",
    "MATCH (g:Genre {id: c.genreid})\n",
    "CREATE (c)-[r:BELONGS_TO]->(g)\n",
    "\"\"\"\n",
    "\n",
    "with driver.session(database=database_name) as session:\n",
    "    result = session.run(query)"
   ]
  },
  {
   "cell_type": "code",
   "execution_count": 7,
   "metadata": {},
   "outputs": [
    {
     "data": {
      "text/html": [
       "<div>\n",
       "<style scoped>\n",
       "    .dataframe tbody tr th:only-of-type {\n",
       "        vertical-align: middle;\n",
       "    }\n",
       "\n",
       "    .dataframe tbody tr th {\n",
       "        vertical-align: top;\n",
       "    }\n",
       "\n",
       "    .dataframe thead th {\n",
       "        text-align: right;\n",
       "    }\n",
       "</style>\n",
       "<table border=\"1\" class=\"dataframe\">\n",
       "  <thead>\n",
       "    <tr style=\"text-align: right;\">\n",
       "      <th></th>\n",
       "      <th>count(*)</th>\n",
       "    </tr>\n",
       "  </thead>\n",
       "  <tbody>\n",
       "    <tr>\n",
       "      <th>0</th>\n",
       "      <td>121424</td>\n",
       "    </tr>\n",
       "  </tbody>\n",
       "</table>\n",
       "</div>"
      ],
      "text/plain": [
       "   count(*)\n",
       "0    121424"
      ]
     },
     "execution_count": 7,
     "metadata": {},
     "output_type": "execute_result"
    }
   ],
   "source": [
    "query = \"\"\"\n",
    "MATCH (c:CD)-[r:BELONGS_TO]->(s:Genre)\n",
    "RETURN count(*)\n",
    "\"\"\"\n",
    "        \n",
    "dtf_data = pd.DataFrame([dict(_) for _ in session.run(query)])\n",
    "dtf_data"
   ]
  },
  {
   "cell_type": "markdown",
   "metadata": {},
   "source": [
    "**Other Direction:**"
   ]
  },
  {
   "cell_type": "code",
   "execution_count": 8,
   "metadata": {},
   "outputs": [],
   "source": [
    "query = \"\"\"\n",
    "MATCH (c:CD)\n",
    "MATCH (g:Genre {id: c.genreid})\n",
    "CREATE (c)<-[r:APPEARED_ON]-(g)\n",
    "\"\"\"\n",
    "\n",
    "with driver.session(database=database_name) as session:\n",
    "    result = session.run(query)"
   ]
  },
  {
   "cell_type": "code",
   "execution_count": 9,
   "metadata": {},
   "outputs": [
    {
     "data": {
      "text/html": [
       "<div>\n",
       "<style scoped>\n",
       "    .dataframe tbody tr th:only-of-type {\n",
       "        vertical-align: middle;\n",
       "    }\n",
       "\n",
       "    .dataframe tbody tr th {\n",
       "        vertical-align: top;\n",
       "    }\n",
       "\n",
       "    .dataframe thead th {\n",
       "        text-align: right;\n",
       "    }\n",
       "</style>\n",
       "<table border=\"1\" class=\"dataframe\">\n",
       "  <thead>\n",
       "    <tr style=\"text-align: right;\">\n",
       "      <th></th>\n",
       "      <th>count(*)</th>\n",
       "    </tr>\n",
       "  </thead>\n",
       "  <tbody>\n",
       "    <tr>\n",
       "      <th>0</th>\n",
       "      <td>121424</td>\n",
       "    </tr>\n",
       "  </tbody>\n",
       "</table>\n",
       "</div>"
      ],
      "text/plain": [
       "   count(*)\n",
       "0    121424"
      ]
     },
     "execution_count": 9,
     "metadata": {},
     "output_type": "execute_result"
    }
   ],
   "source": [
    "query = \"\"\"\n",
    "MATCH (c:CD)<-[r:APPEARED_ON]-(s:Genre)\n",
    "RETURN count(*)\n",
    "\"\"\"\n",
    "        \n",
    "dtf_data = pd.DataFrame([dict(_) for _ in session.run(query)])\n",
    "dtf_data"
   ]
  },
  {
   "cell_type": "markdown",
   "metadata": {},
   "source": [
    "#### Connect Artist, Album and CD"
   ]
  },
  {
   "cell_type": "markdown",
   "metadata": {},
   "source": [
    "**Artist and Album:**"
   ]
  },
  {
   "cell_type": "code",
   "execution_count": 10,
   "metadata": {},
   "outputs": [],
   "source": [
    "query = \"\"\"\n",
    "CREATE INDEX IF NOT EXISTS FOR (n:Album) ON (n.id)\n",
    "\"\"\"\n",
    "\n",
    "with driver.session(database=database_name) as session:\n",
    "    result = session.run(query)"
   ]
  },
  {
   "cell_type": "code",
   "execution_count": 11,
   "metadata": {},
   "outputs": [],
   "source": [
    "query = \"\"\"\n",
    "CREATE INDEX IF NOT EXISTS FOR (n:Artist) ON (n.id)\n",
    "\"\"\"\n",
    "\n",
    "with driver.session(database=database_name) as session:\n",
    "    result = session.run(query)"
   ]
  },
  {
   "cell_type": "code",
   "execution_count": 12,
   "metadata": {},
   "outputs": [],
   "source": [
    "query = \"\"\"\n",
    "USING PERIODIC COMMIT 5000\n",
    "LOAD CSV WITH HEADERS FROM 'file:///artist2album_202206062119.csv' AS row FIELDTERMINATOR ','\n",
    "WITH toInteger(row.artist2albumid) as artist2albumid, \n",
    "     toInteger(row.artistid) as artistid,\n",
    "     toInteger(row.albumid) as albumid\n",
    "MATCH (a:Artist {id: artistid})\n",
    "MATCH (t:Album {id: albumid})\n",
    "CREATE (a)-[r:CONTRIBUTED_TO]->(t)\n",
    "\"\"\"\n",
    "\n",
    "with driver.session(database=database_name) as session:\n",
    "    result = session.run(query)"
   ]
  },
  {
   "cell_type": "markdown",
   "metadata": {},
   "source": [
    "**Other Direction:**"
   ]
  },
  {
   "cell_type": "code",
   "execution_count": 13,
   "metadata": {},
   "outputs": [],
   "source": [
    "query = \"\"\"\n",
    "USING PERIODIC COMMIT 5000\n",
    "LOAD CSV WITH HEADERS FROM 'file:///artist2album_202206062119.csv' AS row FIELDTERMINATOR ','\n",
    "WITH toInteger(row.artist2albumid) as artist2albumid, \n",
    "     toInteger(row.artistid) as artistid,\n",
    "     toInteger(row.albumid) as albumid\n",
    "MATCH (a:Artist {id: artistid})\n",
    "MATCH (t:Album {id: albumid})\n",
    "CREATE (a)<-[r:CREATED_BY]-(t)\n",
    "\"\"\"\n",
    "\n",
    "with driver.session(database=database_name) as session:\n",
    "    result = session.run(query)"
   ]
  },
  {
   "cell_type": "markdown",
   "metadata": {},
   "source": [
    "***"
   ]
  },
  {
   "cell_type": "markdown",
   "metadata": {},
   "source": [
    "**CD and Album:**"
   ]
  },
  {
   "cell_type": "code",
   "execution_count": 14,
   "metadata": {},
   "outputs": [],
   "source": [
    "query = \"\"\"\n",
    "CREATE INDEX IF NOT EXISTS FOR (n:CD) ON (n.artist2albumid)\n",
    "\"\"\"\n",
    "\n",
    "with driver.session(database=database_name) as session:\n",
    "    result = session.run(query)"
   ]
  },
  {
   "cell_type": "code",
   "execution_count": 15,
   "metadata": {},
   "outputs": [],
   "source": [
    "query = \"\"\"\n",
    "USING PERIODIC COMMIT 5000\n",
    "LOAD CSV WITH HEADERS FROM 'file:///artist2album_202206062119.csv' AS row FIELDTERMINATOR ','\n",
    "WITH toInteger(row.artist2albumid) as artist2albumid, \n",
    "     toInteger(row.artistid) as artistid,\n",
    "     toInteger(row.albumid) as albumid\n",
    "MATCH (a:CD {artist2albumid: artist2albumid})\n",
    "MATCH (t:Album {id: albumid})\n",
    "CREATE (a)-[r:CONTAINS]->(t)\n",
    "\"\"\"\n",
    "\n",
    "with driver.session(database=database_name) as session:\n",
    "    result = session.run(query)"
   ]
  },
  {
   "cell_type": "markdown",
   "metadata": {},
   "source": [
    "**Other Direction:**"
   ]
  },
  {
   "cell_type": "code",
   "execution_count": 16,
   "metadata": {},
   "outputs": [],
   "source": [
    "query = \"\"\"\n",
    "USING PERIODIC COMMIT 5000\n",
    "LOAD CSV WITH HEADERS FROM 'file:///artist2album_202206062119.csv' AS row FIELDTERMINATOR ','\n",
    "WITH toInteger(row.artist2albumid) as artist2albumid, \n",
    "     toInteger(row.artistid) as artistid,\n",
    "     toInteger(row.albumid) as albumid\n",
    "MATCH (a:CD {artist2albumid: artist2albumid})\n",
    "MATCH (t:Album {id: albumid})\n",
    "CREATE (a)<-[r:APPEARED_ON]-(t)\n",
    "\"\"\"\n",
    "\n",
    "with driver.session(database=database_name) as session:\n",
    "    result = session.run(query)"
   ]
  },
  {
   "cell_type": "markdown",
   "metadata": {},
   "source": [
    "***"
   ]
  },
  {
   "cell_type": "markdown",
   "metadata": {},
   "source": [
    "**CD and Artist:**"
   ]
  },
  {
   "cell_type": "code",
   "execution_count": 17,
   "metadata": {},
   "outputs": [],
   "source": [
    "query = \"\"\"\n",
    "USING PERIODIC COMMIT 5000\n",
    "LOAD CSV WITH HEADERS FROM 'file:///artist2album_202206062119.csv' AS row FIELDTERMINATOR ','\n",
    "WITH toInteger(row.artist2albumid) as artist2albumid, \n",
    "     toInteger(row.artistid) as artistid,\n",
    "     toInteger(row.albumid) as albumid\n",
    "MATCH (a:CD {artist2albumid: artist2albumid})\n",
    "MATCH (t:Artist {id: artistid})\n",
    "CREATE (a)-[r:CONTAINS]->(t)\n",
    "\"\"\"\n",
    "\n",
    "with driver.session(database=database_name) as session:\n",
    "    result = session.run(query)"
   ]
  },
  {
   "cell_type": "markdown",
   "metadata": {},
   "source": [
    "**Other Direction:**"
   ]
  },
  {
   "cell_type": "code",
   "execution_count": 18,
   "metadata": {},
   "outputs": [],
   "source": [
    "query = \"\"\"\n",
    "USING PERIODIC COMMIT 5000\n",
    "LOAD CSV WITH HEADERS FROM 'file:///artist2album_202206062119.csv' AS row FIELDTERMINATOR ','\n",
    "WITH toInteger(row.artist2albumid) as artist2albumid, \n",
    "     toInteger(row.artistid) as artistid,\n",
    "     toInteger(row.albumid) as albumid\n",
    "MATCH (a:CD {artist2albumid: artist2albumid})\n",
    "MATCH (t:Artist {id: artistid})\n",
    "CREATE (a)<-[r:APPEARED_ON]-(t)\n",
    "\"\"\"\n",
    "\n",
    "with driver.session(database=database_name) as session:\n",
    "    result = session.run(query)"
   ]
  },
  {
   "cell_type": "code",
   "execution_count": null,
   "metadata": {},
   "outputs": [],
   "source": []
  }
 ],
 "metadata": {
  "kernelspec": {
   "display_name": "Python 3 (ipykernel)",
   "language": "python",
   "name": "python3"
  },
  "language_info": {
   "codemirror_mode": {
    "name": "ipython",
    "version": 3
   },
   "file_extension": ".py",
   "mimetype": "text/x-python",
   "name": "python",
   "nbconvert_exporter": "python",
   "pygments_lexer": "ipython3",
   "version": "3.9.7"
  }
 },
 "nbformat": 4,
 "nbformat_minor": 4
}
